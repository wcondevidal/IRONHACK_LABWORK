{
 "cells": [
  {
   "cell_type": "markdown",
   "metadata": {},
   "source": [
    "## Spotipy API\n",
    "\n",
    "Create an Spotify account and follow these steps to register an app: https://developer.spotify.com/documentation/general/guides/app-settings/\n",
    "\n",
    "After the app is created, you can see it on your dashboard\n",
    "https://developer.spotify.com/dashboard/applications\n",
    "\n",
    "Click on it and you'll find the client id and client secret."
   ]
  },
  {
   "cell_type": "markdown",
   "metadata": {},
   "source": [
    "Import Libraries"
   ]
  },
  {
   "cell_type": "code",
   "execution_count": 373,
   "metadata": {},
   "outputs": [],
   "source": [
    "import spotipy\n",
    "from spotipy.oauth2 import SpotifyClientCredentials\n",
    "import pandas as pd\n",
    "import numpy as np\n",
    "import getpass\n",
    "from sklearn.preprocessing import StandardScaler\n",
    "from sklearn.cluster import KMeans\n",
    "import matplotlib.pyplot as plt\n",
    "from sklearn.metrics import silhouette_score\n",
    "from tqdm.notebook import tqdm\n",
    "from bs4 import BeautifulSoup\n",
    "import requests\n",
    "import random"
   ]
  },
  {
   "cell_type": "markdown",
   "metadata": {},
   "source": [
    "## Password security "
   ]
  },
  {
   "cell_type": "code",
   "execution_count": 105,
   "metadata": {},
   "outputs": [
    {
     "name": "stdout",
     "output_type": "stream",
     "text": [
      "client_id?········\n",
      "client_secret?········\n"
     ]
    }
   ],
   "source": [
    "client_id=str(getpass.getpass('client_id?'))\n",
    "client_secret=str(getpass.getpass('client_secret?'))"
   ]
  },
  {
   "cell_type": "code",
   "execution_count": 205,
   "metadata": {},
   "outputs": [],
   "source": [
    "#Initialize SpotiPy with user credentials (see password section below)\n",
    "\n",
    "sp = spotipy.Spotify(auth_manager=SpotifyClientCredentials(client_id=client_id, client_secret=client_secret))"
   ]
  },
  {
   "cell_type": "markdown",
   "metadata": {},
   "source": [
    "#### Playlist import"
   ]
  },
  {
   "cell_type": "code",
   "execution_count": 206,
   "metadata": {},
   "outputs": [],
   "source": [
    "playlist = sp.user_playlist_tracks(\"Walter\", \"3VE0WsnukXaPrNKazIgAWx\")"
   ]
  },
  {
   "cell_type": "code",
   "execution_count": 207,
   "metadata": {},
   "outputs": [],
   "source": [
    "playlist1 = sp.user_playlist_tracks(\"Andrea Fought\",\"5mzECKhirkq6GKtsAvvtsx\")"
   ]
  },
  {
   "cell_type": "code",
   "execution_count": 208,
   "metadata": {},
   "outputs": [],
   "source": [
    "playlist2= sp.user_playlist_tracks(\"Spotify\",\"37i9dQZF1DXbXD9pMSZomS\") "
   ]
  },
  {
   "cell_type": "code",
   "execution_count": 209,
   "metadata": {},
   "outputs": [],
   "source": [
    "playlist3= sp.user_playlist_tracks(\"Spotify\",\"37i9dQZF1DX0r3x8OtiwEM\")   "
   ]
  },
  {
   "cell_type": "code",
   "execution_count": 210,
   "metadata": {},
   "outputs": [],
   "source": [
    "playlist4=sp.user_playlist_tracks(\"Maria Paradell\", \"7MkQSGPP5ImrZpmTw5vyAp\")"
   ]
  },
  {
   "cell_type": "code",
   "execution_count": 211,
   "metadata": {},
   "outputs": [],
   "source": [
    "playlist5=sp.user_playlist_tracks(\"Walter\",\"39KvOzjZCHb7ZrxhT3AX5a\")"
   ]
  },
  {
   "cell_type": "code",
   "execution_count": 212,
   "metadata": {},
   "outputs": [],
   "source": [
    "playlist6=sp.user_playlist_tracks(\"Walter\",\"3nEqaksi7BK6c6lSca7ocF\")"
   ]
  },
  {
   "cell_type": "code",
   "execution_count": 213,
   "metadata": {},
   "outputs": [],
   "source": [
    "playlist7=sp.user_playlist_tracks(\"Alfonso Peña\",\"07L4PVTpeuzHJkeEz4iggs\")"
   ]
  },
  {
   "cell_type": "code",
   "execution_count": 214,
   "metadata": {},
   "outputs": [],
   "source": [
    "playlist8=sp.user_playlist_tracks(\"Eric Shoemaker\",\"2ZggLIDqac8GLh3NvuSY5d\")"
   ]
  },
  {
   "cell_type": "code",
   "execution_count": 215,
   "metadata": {},
   "outputs": [],
   "source": [
    "playlist9=sp.user_playlist_tracks(\"Andrea Ribó\",\"2b5O7A12NefJUhNAYeWxXH\")"
   ]
  },
  {
   "cell_type": "code",
   "execution_count": 216,
   "metadata": {},
   "outputs": [],
   "source": [
    "playlist10=sp.user_playlist_tracks(\"Pablo Morillo\",\"4Kjib49e5gleKbslnywJB9\")"
   ]
  },
  {
   "cell_type": "markdown",
   "metadata": {},
   "source": [
    "Spotify songs are identified by either a \"url\", a \"uri\" or an \"id\". \n",
    "\n",
    "- The `id` is an alphanumeric code, and it's the nuclear part of the identifier.\n",
    "\n",
    "- The `uri` contains \"spotify:track\" before the id. An uri is useful because it can be searched manually in the Spotify app.\n",
    "\n",
    "- The `url` is a link to the song on the Spotify web player.\n",
    "\n",
    "We'll use the `uri` in this code-along, but feel free to use whatever you think fits best your needs."
   ]
  },
  {
   "cell_type": "code",
   "execution_count": 217,
   "metadata": {},
   "outputs": [
    {
     "data": {
      "text/plain": [
       "dict_keys(['href', 'items', 'limit', 'next', 'offset', 'previous', 'total'])"
      ]
     },
     "execution_count": 217,
     "metadata": {},
     "output_type": "execute_result"
    }
   ],
   "source": [
    "playlist.keys()"
   ]
  },
  {
   "cell_type": "code",
   "execution_count": 218,
   "metadata": {},
   "outputs": [
    {
     "data": {
      "text/plain": [
       "'Lightweight - Sandy Rivera Remix'"
      ]
     },
     "execution_count": 218,
     "metadata": {},
     "output_type": "execute_result"
    }
   ],
   "source": [
    "playlist['items'][0]['track']['name']"
   ]
  },
  {
   "cell_type": "code",
   "execution_count": 219,
   "metadata": {},
   "outputs": [
    {
     "data": {
      "text/plain": [
       "'Jason Burns'"
      ]
     },
     "execution_count": 219,
     "metadata": {},
     "output_type": "execute_result"
    }
   ],
   "source": [
    "playlist['items'][0]['track']['artists'][0]['name']"
   ]
  },
  {
   "cell_type": "code",
   "execution_count": 220,
   "metadata": {},
   "outputs": [],
   "source": [
    "playlist_names = []\n",
    "for item in playlist['items']:\n",
    "        playlist_names.append(item['track']['name'])"
   ]
  },
  {
   "cell_type": "code",
   "execution_count": 221,
   "metadata": {},
   "outputs": [],
   "source": [
    "playlist_artists = []\n",
    "for i in playlist['items']:\n",
    "        playlist_artists.append(i['track']['artists'][0]['name'])"
   ]
  },
  {
   "cell_type": "code",
   "execution_count": 222,
   "metadata": {},
   "outputs": [],
   "source": [
    "playlist_uri=[]\n",
    "for item in playlist['items']:\n",
    "    playlist_uri.append(item['track']['uri'])"
   ]
  },
  {
   "cell_type": "code",
   "execution_count": 162,
   "metadata": {},
   "outputs": [],
   "source": [
    "audio_playlist_df=pd.DataFrame(sp.audio_features(tracks=playlist_uri))"
   ]
  },
  {
   "cell_type": "code",
   "execution_count": 163,
   "metadata": {},
   "outputs": [],
   "source": [
    "audio_playlist_df['Name'] = playlist_names"
   ]
  },
  {
   "cell_type": "code",
   "execution_count": 164,
   "metadata": {},
   "outputs": [],
   "source": [
    "audio_playlist_df['Artist'] = playlist_artists"
   ]
  },
  {
   "cell_type": "code",
   "execution_count": null,
   "metadata": {},
   "outputs": [],
   "source": []
  },
  {
   "cell_type": "code",
   "execution_count": 224,
   "metadata": {},
   "outputs": [],
   "source": [
    "playlist1_names = []\n",
    "for item in playlist1['items']:\n",
    "        playlist1_names.append(item['track']['name'])"
   ]
  },
  {
   "cell_type": "code",
   "execution_count": 225,
   "metadata": {},
   "outputs": [],
   "source": [
    "playlist1_artists = []\n",
    "for i in playlist1['items']:\n",
    "        playlist1_artists.append(i['track']['artists'][0]['name'])"
   ]
  },
  {
   "cell_type": "code",
   "execution_count": 226,
   "metadata": {},
   "outputs": [],
   "source": [
    "playlist1_uri=[]\n",
    "for item in playlist1['items']:\n",
    "    playlist1_uri.append(item['track']['uri'])"
   ]
  },
  {
   "cell_type": "code",
   "execution_count": 227,
   "metadata": {},
   "outputs": [],
   "source": [
    "audio_playlist1_df=pd.DataFrame(sp.audio_features(tracks=playlist1_uri))"
   ]
  },
  {
   "cell_type": "code",
   "execution_count": 228,
   "metadata": {},
   "outputs": [],
   "source": [
    "audio_playlist1_df['Name'] = playlist1_names"
   ]
  },
  {
   "cell_type": "code",
   "execution_count": 229,
   "metadata": {},
   "outputs": [],
   "source": [
    "audio_playlist1_df['Artist'] = playlist1_artists"
   ]
  },
  {
   "cell_type": "code",
   "execution_count": 230,
   "metadata": {},
   "outputs": [
    {
     "data": {
      "text/plain": [
       "(100, 20)"
      ]
     },
     "execution_count": 230,
     "metadata": {},
     "output_type": "execute_result"
    }
   ],
   "source": [
    "audio_playlist1_df.shape"
   ]
  },
  {
   "cell_type": "code",
   "execution_count": null,
   "metadata": {},
   "outputs": [],
   "source": []
  },
  {
   "cell_type": "code",
   "execution_count": 231,
   "metadata": {},
   "outputs": [],
   "source": [
    "playlist2_names = []\n",
    "for item in playlist2['items']:\n",
    "        playlist2_names.append(item['track']['name'])"
   ]
  },
  {
   "cell_type": "code",
   "execution_count": 232,
   "metadata": {},
   "outputs": [],
   "source": [
    "playlist2_artists = []\n",
    "for i in playlist2['items']:\n",
    "        playlist2_artists.append(i['track']['artists'][0]['name'])"
   ]
  },
  {
   "cell_type": "code",
   "execution_count": 233,
   "metadata": {},
   "outputs": [],
   "source": [
    "playlist2_uri=[]\n",
    "for item in playlist2['items']:\n",
    "    playlist2_uri.append(item['track']['uri'])"
   ]
  },
  {
   "cell_type": "code",
   "execution_count": 234,
   "metadata": {},
   "outputs": [],
   "source": [
    "audio_playlist2_df=pd.DataFrame(sp.audio_features(tracks=playlist2_uri))"
   ]
  },
  {
   "cell_type": "code",
   "execution_count": 235,
   "metadata": {},
   "outputs": [],
   "source": [
    "audio_playlist2_df['Name'] = playlist2_names"
   ]
  },
  {
   "cell_type": "code",
   "execution_count": 236,
   "metadata": {},
   "outputs": [],
   "source": [
    "audio_playlist2_df['Artist'] = playlist2_artists"
   ]
  },
  {
   "cell_type": "code",
   "execution_count": 237,
   "metadata": {},
   "outputs": [],
   "source": [
    "playlist3_names = []\n",
    "for item in playlist3['items']:\n",
    "        playlist3_names.append(item['track']['name'])"
   ]
  },
  {
   "cell_type": "code",
   "execution_count": 238,
   "metadata": {},
   "outputs": [],
   "source": [
    "playlist3_artists = []\n",
    "for i in playlist3['items']:\n",
    "        playlist3_artists.append(i['track']['artists'][0]['name'])"
   ]
  },
  {
   "cell_type": "code",
   "execution_count": 239,
   "metadata": {},
   "outputs": [],
   "source": [
    "playlist3_uri=[]\n",
    "for item in playlist3['items']:\n",
    "    playlist3_uri.append(item['track']['uri'])"
   ]
  },
  {
   "cell_type": "code",
   "execution_count": 240,
   "metadata": {},
   "outputs": [],
   "source": [
    "audio_playlist3_df=pd.DataFrame(sp.audio_features(tracks=playlist3_uri))"
   ]
  },
  {
   "cell_type": "code",
   "execution_count": 241,
   "metadata": {},
   "outputs": [],
   "source": [
    "audio_playlist3_df['Name'] = playlist3_names"
   ]
  },
  {
   "cell_type": "code",
   "execution_count": 242,
   "metadata": {},
   "outputs": [],
   "source": [
    "audio_playlist3_df['Artist'] = playlist3_artists"
   ]
  },
  {
   "cell_type": "code",
   "execution_count": null,
   "metadata": {},
   "outputs": [],
   "source": []
  },
  {
   "cell_type": "code",
   "execution_count": 183,
   "metadata": {},
   "outputs": [],
   "source": [
    "playlist4_names = []\n",
    "for item in playlist4['items']:\n",
    "        playlist4_names.append(item['track']['name'])"
   ]
  },
  {
   "cell_type": "code",
   "execution_count": 184,
   "metadata": {},
   "outputs": [],
   "source": [
    "playlist4_artists = []\n",
    "for i in playlist4['items']:\n",
    "        playlist4_artists.append(i['track']['artists'][0]['name'])"
   ]
  },
  {
   "cell_type": "code",
   "execution_count": 185,
   "metadata": {},
   "outputs": [],
   "source": [
    "playlist4_uri=[]\n",
    "for item in playlist4['items']:\n",
    "    playlist4_uri.append(item['track']['uri'])"
   ]
  },
  {
   "cell_type": "code",
   "execution_count": 186,
   "metadata": {},
   "outputs": [],
   "source": [
    "audio_playlist4_df=pd.DataFrame(sp.audio_features(tracks=playlist4_uri))"
   ]
  },
  {
   "cell_type": "code",
   "execution_count": 187,
   "metadata": {},
   "outputs": [],
   "source": [
    "audio_playlist4_df['Name'] = playlist4_names"
   ]
  },
  {
   "cell_type": "code",
   "execution_count": 188,
   "metadata": {},
   "outputs": [],
   "source": [
    "audio_playlist4_df['Artist'] = playlist4_artists"
   ]
  },
  {
   "cell_type": "code",
   "execution_count": null,
   "metadata": {},
   "outputs": [],
   "source": []
  },
  {
   "cell_type": "code",
   "execution_count": 189,
   "metadata": {},
   "outputs": [],
   "source": [
    "playlist5_names = []\n",
    "for item in playlist5['items']:\n",
    "        playlist5_names.append(item['track']['name'])"
   ]
  },
  {
   "cell_type": "code",
   "execution_count": 190,
   "metadata": {},
   "outputs": [],
   "source": [
    "playlist5_artists = []\n",
    "for i in playlist5['items']:\n",
    "        playlist5_artists.append(i['track']['artists'][0]['name'])"
   ]
  },
  {
   "cell_type": "code",
   "execution_count": 191,
   "metadata": {},
   "outputs": [],
   "source": [
    "playlist5_uri=[]\n",
    "for item in playlist5['items']:\n",
    "    playlist5_uri.append(item['track']['uri'])"
   ]
  },
  {
   "cell_type": "code",
   "execution_count": 192,
   "metadata": {},
   "outputs": [],
   "source": [
    "audio_playlist5_df=pd.DataFrame(sp.audio_features(tracks=playlist5_uri))"
   ]
  },
  {
   "cell_type": "code",
   "execution_count": 193,
   "metadata": {},
   "outputs": [],
   "source": [
    "audio_playlist5_df['Name'] = playlist5_names"
   ]
  },
  {
   "cell_type": "code",
   "execution_count": 194,
   "metadata": {},
   "outputs": [],
   "source": [
    "audio_playlist5_df['Artist'] = playlist5_artists"
   ]
  },
  {
   "cell_type": "code",
   "execution_count": null,
   "metadata": {},
   "outputs": [],
   "source": []
  },
  {
   "cell_type": "code",
   "execution_count": 195,
   "metadata": {},
   "outputs": [],
   "source": [
    "playlist6_names = []\n",
    "for item in playlist6['items']:\n",
    "        playlist6_names.append(item['track']['name'])"
   ]
  },
  {
   "cell_type": "code",
   "execution_count": 196,
   "metadata": {},
   "outputs": [],
   "source": [
    "playlist6_artists = []\n",
    "for i in playlist6['items']:\n",
    "        playlist6_artists.append(i['track']['artists'][0]['name'])"
   ]
  },
  {
   "cell_type": "code",
   "execution_count": 197,
   "metadata": {},
   "outputs": [],
   "source": [
    "playlist6_uri=[]\n",
    "for item in playlist6['items']:\n",
    "    playlist6_uri.append(item['track']['uri'])"
   ]
  },
  {
   "cell_type": "code",
   "execution_count": 198,
   "metadata": {},
   "outputs": [],
   "source": [
    "audio_playlist6_df=pd.DataFrame(sp.audio_features(tracks=playlist6_uri))"
   ]
  },
  {
   "cell_type": "code",
   "execution_count": 199,
   "metadata": {},
   "outputs": [],
   "source": [
    "audio_playlist6_df['Name'] = playlist6_names"
   ]
  },
  {
   "cell_type": "code",
   "execution_count": 200,
   "metadata": {},
   "outputs": [],
   "source": [
    "audio_playlist6_df['Artist'] = playlist6_artists"
   ]
  },
  {
   "cell_type": "code",
   "execution_count": null,
   "metadata": {},
   "outputs": [],
   "source": []
  },
  {
   "cell_type": "code",
   "execution_count": 251,
   "metadata": {},
   "outputs": [],
   "source": [
    "playlist7_names = []\n",
    "for item in playlist7['items']:\n",
    "        playlist7_names.append(item['track']['name'])"
   ]
  },
  {
   "cell_type": "code",
   "execution_count": 247,
   "metadata": {},
   "outputs": [],
   "source": [
    "playlist7_artists = []\n",
    "for i in playlist7['items']:\n",
    "        playlist7_artists.append(i['track']['artists'][0]['name'])"
   ]
  },
  {
   "cell_type": "code",
   "execution_count": 248,
   "metadata": {},
   "outputs": [],
   "source": [
    "playlist7_uri=[]\n",
    "for item in playlist7['items']:\n",
    "    playlist7_uri.append(item['track']['uri'])"
   ]
  },
  {
   "cell_type": "code",
   "execution_count": 249,
   "metadata": {},
   "outputs": [],
   "source": [
    "audio_playlist7_df=pd.DataFrame(sp.audio_features(tracks=playlist7_uri))"
   ]
  },
  {
   "cell_type": "code",
   "execution_count": 252,
   "metadata": {},
   "outputs": [],
   "source": [
    "audio_playlist7_df['Name'] = playlist7_names"
   ]
  },
  {
   "cell_type": "code",
   "execution_count": 253,
   "metadata": {},
   "outputs": [],
   "source": [
    "audio_playlist6_df['Artist'] = playlist6_artists"
   ]
  },
  {
   "cell_type": "code",
   "execution_count": null,
   "metadata": {},
   "outputs": [],
   "source": []
  },
  {
   "cell_type": "code",
   "execution_count": 254,
   "metadata": {},
   "outputs": [],
   "source": [
    "playlist8_names = []\n",
    "for item in playlist8['items']:\n",
    "        playlist8_names.append(item['track']['name'])"
   ]
  },
  {
   "cell_type": "code",
   "execution_count": 255,
   "metadata": {},
   "outputs": [],
   "source": [
    "playlist8_artists = []\n",
    "for i in playlist8['items']:\n",
    "        playlist8_artists.append(i['track']['artists'][0]['name'])"
   ]
  },
  {
   "cell_type": "code",
   "execution_count": 256,
   "metadata": {},
   "outputs": [],
   "source": [
    "playlist8_uri=[]\n",
    "for item in playlist8['items']:\n",
    "    playlist8_uri.append(item['track']['uri'])"
   ]
  },
  {
   "cell_type": "code",
   "execution_count": 257,
   "metadata": {},
   "outputs": [],
   "source": [
    "audio_playlist8_df=pd.DataFrame(sp.audio_features(tracks=playlist8_uri))"
   ]
  },
  {
   "cell_type": "code",
   "execution_count": 258,
   "metadata": {},
   "outputs": [],
   "source": [
    "audio_playlist8_df['Name'] = playlist8_names"
   ]
  },
  {
   "cell_type": "code",
   "execution_count": 259,
   "metadata": {},
   "outputs": [],
   "source": [
    "audio_playlist8_df['Artist'] = playlist8_artists"
   ]
  },
  {
   "cell_type": "code",
   "execution_count": null,
   "metadata": {},
   "outputs": [],
   "source": []
  },
  {
   "cell_type": "code",
   "execution_count": 260,
   "metadata": {},
   "outputs": [],
   "source": [
    "playlist9_names = []\n",
    "for item in playlist9['items']:\n",
    "        playlist9_names.append(item['track']['name'])"
   ]
  },
  {
   "cell_type": "code",
   "execution_count": 261,
   "metadata": {},
   "outputs": [],
   "source": [
    "playlist9_artists = []\n",
    "for i in playlist9['items']:\n",
    "        playlist9_artists.append(i['track']['artists'][0]['name'])"
   ]
  },
  {
   "cell_type": "code",
   "execution_count": 262,
   "metadata": {},
   "outputs": [],
   "source": [
    "playlist9_uri=[]\n",
    "for item in playlist9['items']:\n",
    "    playlist9_uri.append(item['track']['uri'])"
   ]
  },
  {
   "cell_type": "code",
   "execution_count": 263,
   "metadata": {},
   "outputs": [],
   "source": [
    "audio_playlist9_df=pd.DataFrame(sp.audio_features(tracks=playlist9_uri))"
   ]
  },
  {
   "cell_type": "code",
   "execution_count": 264,
   "metadata": {},
   "outputs": [],
   "source": [
    "audio_playlist9_df['Name'] = playlist9_names"
   ]
  },
  {
   "cell_type": "code",
   "execution_count": 265,
   "metadata": {},
   "outputs": [],
   "source": [
    "audio_playlist9_df['Artist'] = playlist9_artists"
   ]
  },
  {
   "cell_type": "code",
   "execution_count": null,
   "metadata": {},
   "outputs": [],
   "source": []
  },
  {
   "cell_type": "code",
   "execution_count": 267,
   "metadata": {},
   "outputs": [],
   "source": [
    "playlist10_names = []\n",
    "for item in playlist10['items']:\n",
    "        playlist10_names.append(item['track']['name'])"
   ]
  },
  {
   "cell_type": "code",
   "execution_count": 268,
   "metadata": {},
   "outputs": [],
   "source": [
    "playlist10_artists = []\n",
    "for i in playlist10['items']:\n",
    "        playlist10_artists.append(i['track']['artists'][0]['name'])"
   ]
  },
  {
   "cell_type": "code",
   "execution_count": 269,
   "metadata": {},
   "outputs": [],
   "source": [
    "playlist10_uri=[]\n",
    "for item in playlist10['items']:\n",
    "    playlist10_uri.append(item['track']['uri'])"
   ]
  },
  {
   "cell_type": "code",
   "execution_count": 270,
   "metadata": {},
   "outputs": [],
   "source": [
    "audio_playlist10_df=pd.DataFrame(sp.audio_features(tracks=playlist10_uri))"
   ]
  },
  {
   "cell_type": "code",
   "execution_count": 271,
   "metadata": {},
   "outputs": [],
   "source": [
    "audio_playlist10_df['Name'] = playlist10_names"
   ]
  },
  {
   "cell_type": "code",
   "execution_count": 272,
   "metadata": {},
   "outputs": [],
   "source": [
    "audio_playlist10_df['Artist'] = playlist10_artists"
   ]
  },
  {
   "cell_type": "code",
   "execution_count": null,
   "metadata": {},
   "outputs": [],
   "source": []
  },
  {
   "cell_type": "code",
   "execution_count": 435,
   "metadata": {},
   "outputs": [],
   "source": [
    "playlist_final = pd.concat([audio_playlist_df,audio_playlist1_df,audio_playlist2_df,audio_playlist3_df,audio_playlist4_df,audio_playlist5_df,audio_playlist6_df,audio_playlist7_df,audio_playlist8_df,audio_playlist9_df,audio_playlist10_df])\n"
   ]
  },
  {
   "cell_type": "code",
   "execution_count": 436,
   "metadata": {},
   "outputs": [
    {
     "data": {
      "text/plain": [
       "(973, 20)"
      ]
     },
     "execution_count": 436,
     "metadata": {},
     "output_type": "execute_result"
    }
   ],
   "source": [
    "playlist_final.shape"
   ]
  },
  {
   "cell_type": "code",
   "execution_count": 437,
   "metadata": {},
   "outputs": [
    {
     "data": {
      "text/html": [
       "<div>\n",
       "<style scoped>\n",
       "    .dataframe tbody tr th:only-of-type {\n",
       "        vertical-align: middle;\n",
       "    }\n",
       "\n",
       "    .dataframe tbody tr th {\n",
       "        vertical-align: top;\n",
       "    }\n",
       "\n",
       "    .dataframe thead th {\n",
       "        text-align: right;\n",
       "    }\n",
       "</style>\n",
       "<table border=\"1\" class=\"dataframe\">\n",
       "  <thead>\n",
       "    <tr style=\"text-align: right;\">\n",
       "      <th></th>\n",
       "      <th>danceability</th>\n",
       "      <th>energy</th>\n",
       "      <th>key</th>\n",
       "      <th>loudness</th>\n",
       "      <th>mode</th>\n",
       "      <th>speechiness</th>\n",
       "      <th>acousticness</th>\n",
       "      <th>instrumentalness</th>\n",
       "      <th>liveness</th>\n",
       "      <th>valence</th>\n",
       "      <th>tempo</th>\n",
       "      <th>type</th>\n",
       "      <th>id</th>\n",
       "      <th>uri</th>\n",
       "      <th>track_href</th>\n",
       "      <th>analysis_url</th>\n",
       "      <th>duration_ms</th>\n",
       "      <th>time_signature</th>\n",
       "      <th>Name</th>\n",
       "      <th>Artist</th>\n",
       "    </tr>\n",
       "  </thead>\n",
       "  <tbody>\n",
       "    <tr>\n",
       "      <th>0</th>\n",
       "      <td>0.774</td>\n",
       "      <td>0.505</td>\n",
       "      <td>5</td>\n",
       "      <td>-9.047</td>\n",
       "      <td>0</td>\n",
       "      <td>0.0469</td>\n",
       "      <td>0.012000</td>\n",
       "      <td>0.0416</td>\n",
       "      <td>0.1070</td>\n",
       "      <td>0.4460</td>\n",
       "      <td>118.010</td>\n",
       "      <td>audio_features</td>\n",
       "      <td>0YDiCJBXYH6qmp2oIlPf6Z</td>\n",
       "      <td>spotify:track:0YDiCJBXYH6qmp2oIlPf6Z</td>\n",
       "      <td>https://api.spotify.com/v1/tracks/0YDiCJBXYH6q...</td>\n",
       "      <td>https://api.spotify.com/v1/audio-analysis/0YDi...</td>\n",
       "      <td>391397</td>\n",
       "      <td>4</td>\n",
       "      <td>Lightweight - Sandy Rivera Remix</td>\n",
       "      <td>Jason Burns</td>\n",
       "    </tr>\n",
       "    <tr>\n",
       "      <th>1</th>\n",
       "      <td>0.795</td>\n",
       "      <td>0.558</td>\n",
       "      <td>9</td>\n",
       "      <td>-7.939</td>\n",
       "      <td>0</td>\n",
       "      <td>0.0312</td>\n",
       "      <td>0.118000</td>\n",
       "      <td>0.0591</td>\n",
       "      <td>0.1050</td>\n",
       "      <td>0.2460</td>\n",
       "      <td>112.029</td>\n",
       "      <td>audio_features</td>\n",
       "      <td>5mEdU0a2nw4vsuA8Pr8Av2</td>\n",
       "      <td>spotify:track:5mEdU0a2nw4vsuA8Pr8Av2</td>\n",
       "      <td>https://api.spotify.com/v1/tracks/5mEdU0a2nw4v...</td>\n",
       "      <td>https://api.spotify.com/v1/audio-analysis/5mEd...</td>\n",
       "      <td>209648</td>\n",
       "      <td>4</td>\n",
       "      <td>War (feat. August+Us)</td>\n",
       "      <td>Witness</td>\n",
       "    </tr>\n",
       "    <tr>\n",
       "      <th>2</th>\n",
       "      <td>0.867</td>\n",
       "      <td>0.603</td>\n",
       "      <td>2</td>\n",
       "      <td>-7.427</td>\n",
       "      <td>0</td>\n",
       "      <td>0.0637</td>\n",
       "      <td>0.356000</td>\n",
       "      <td>0.0553</td>\n",
       "      <td>0.0765</td>\n",
       "      <td>0.6770</td>\n",
       "      <td>114.977</td>\n",
       "      <td>audio_features</td>\n",
       "      <td>6MzuROznsagl5Szc8w3Smj</td>\n",
       "      <td>spotify:track:6MzuROznsagl5Szc8w3Smj</td>\n",
       "      <td>https://api.spotify.com/v1/tracks/6MzuROznsagl...</td>\n",
       "      <td>https://api.spotify.com/v1/audio-analysis/6Mzu...</td>\n",
       "      <td>225181</td>\n",
       "      <td>4</td>\n",
       "      <td>Something About You</td>\n",
       "      <td>Hayden James</td>\n",
       "    </tr>\n",
       "    <tr>\n",
       "      <th>3</th>\n",
       "      <td>0.817</td>\n",
       "      <td>0.623</td>\n",
       "      <td>8</td>\n",
       "      <td>-6.856</td>\n",
       "      <td>1</td>\n",
       "      <td>0.0603</td>\n",
       "      <td>0.034900</td>\n",
       "      <td>0.2770</td>\n",
       "      <td>0.0619</td>\n",
       "      <td>0.5060</td>\n",
       "      <td>115.989</td>\n",
       "      <td>audio_features</td>\n",
       "      <td>0JNBcMPvsCeH8Ac4praGMo</td>\n",
       "      <td>spotify:track:0JNBcMPvsCeH8Ac4praGMo</td>\n",
       "      <td>https://api.spotify.com/v1/tracks/0JNBcMPvsCeH...</td>\n",
       "      <td>https://api.spotify.com/v1/audio-analysis/0JNB...</td>\n",
       "      <td>380690</td>\n",
       "      <td>4</td>\n",
       "      <td>Dolphins - Dub Mix</td>\n",
       "      <td>Freddy Verano</td>\n",
       "    </tr>\n",
       "    <tr>\n",
       "      <th>4</th>\n",
       "      <td>0.790</td>\n",
       "      <td>0.647</td>\n",
       "      <td>8</td>\n",
       "      <td>-6.732</td>\n",
       "      <td>0</td>\n",
       "      <td>0.0375</td>\n",
       "      <td>0.200000</td>\n",
       "      <td>0.1090</td>\n",
       "      <td>0.0766</td>\n",
       "      <td>0.7490</td>\n",
       "      <td>105.012</td>\n",
       "      <td>audio_features</td>\n",
       "      <td>3hxRKXzZS0XRYGZ123JDNH</td>\n",
       "      <td>spotify:track:3hxRKXzZS0XRYGZ123JDNH</td>\n",
       "      <td>https://api.spotify.com/v1/tracks/3hxRKXzZS0XR...</td>\n",
       "      <td>https://api.spotify.com/v1/audio-analysis/3hxR...</td>\n",
       "      <td>194707</td>\n",
       "      <td>4</td>\n",
       "      <td>Djon maya maï (feat. Victor Démé)</td>\n",
       "      <td>Synapson</td>\n",
       "    </tr>\n",
       "    <tr>\n",
       "      <th>...</th>\n",
       "      <td>...</td>\n",
       "      <td>...</td>\n",
       "      <td>...</td>\n",
       "      <td>...</td>\n",
       "      <td>...</td>\n",
       "      <td>...</td>\n",
       "      <td>...</td>\n",
       "      <td>...</td>\n",
       "      <td>...</td>\n",
       "      <td>...</td>\n",
       "      <td>...</td>\n",
       "      <td>...</td>\n",
       "      <td>...</td>\n",
       "      <td>...</td>\n",
       "      <td>...</td>\n",
       "      <td>...</td>\n",
       "      <td>...</td>\n",
       "      <td>...</td>\n",
       "      <td>...</td>\n",
       "      <td>...</td>\n",
       "    </tr>\n",
       "    <tr>\n",
       "      <th>95</th>\n",
       "      <td>0.798</td>\n",
       "      <td>0.880</td>\n",
       "      <td>11</td>\n",
       "      <td>-6.626</td>\n",
       "      <td>1</td>\n",
       "      <td>0.0445</td>\n",
       "      <td>0.000768</td>\n",
       "      <td>0.9270</td>\n",
       "      <td>0.1070</td>\n",
       "      <td>0.0685</td>\n",
       "      <td>125.992</td>\n",
       "      <td>audio_features</td>\n",
       "      <td>4b7qHjTUwT752wMn6BCxVK</td>\n",
       "      <td>spotify:track:4b7qHjTUwT752wMn6BCxVK</td>\n",
       "      <td>https://api.spotify.com/v1/tracks/4b7qHjTUwT75...</td>\n",
       "      <td>https://api.spotify.com/v1/audio-analysis/4b7q...</td>\n",
       "      <td>398229</td>\n",
       "      <td>4</td>\n",
       "      <td>Nine of You</td>\n",
       "      <td>Adam Beyer</td>\n",
       "    </tr>\n",
       "    <tr>\n",
       "      <th>96</th>\n",
       "      <td>0.809</td>\n",
       "      <td>0.746</td>\n",
       "      <td>7</td>\n",
       "      <td>-12.131</td>\n",
       "      <td>1</td>\n",
       "      <td>0.0468</td>\n",
       "      <td>0.000061</td>\n",
       "      <td>0.9400</td>\n",
       "      <td>0.1140</td>\n",
       "      <td>0.0370</td>\n",
       "      <td>121.998</td>\n",
       "      <td>audio_features</td>\n",
       "      <td>7KvBNIC7MEQLTpC7RbTMtI</td>\n",
       "      <td>spotify:track:7KvBNIC7MEQLTpC7RbTMtI</td>\n",
       "      <td>https://api.spotify.com/v1/tracks/7KvBNIC7MEQL...</td>\n",
       "      <td>https://api.spotify.com/v1/audio-analysis/7KvB...</td>\n",
       "      <td>484841</td>\n",
       "      <td>4</td>\n",
       "      <td>Holding Pattern</td>\n",
       "      <td>Karmon</td>\n",
       "    </tr>\n",
       "    <tr>\n",
       "      <th>97</th>\n",
       "      <td>0.688</td>\n",
       "      <td>0.961</td>\n",
       "      <td>9</td>\n",
       "      <td>-8.262</td>\n",
       "      <td>1</td>\n",
       "      <td>0.0432</td>\n",
       "      <td>0.169000</td>\n",
       "      <td>0.7810</td>\n",
       "      <td>0.1080</td>\n",
       "      <td>0.3070</td>\n",
       "      <td>135.118</td>\n",
       "      <td>audio_features</td>\n",
       "      <td>3RCYUa66bzSqIXQ34QGeHd</td>\n",
       "      <td>spotify:track:3RCYUa66bzSqIXQ34QGeHd</td>\n",
       "      <td>https://api.spotify.com/v1/tracks/3RCYUa66bzSq...</td>\n",
       "      <td>https://api.spotify.com/v1/audio-analysis/3RCY...</td>\n",
       "      <td>505465</td>\n",
       "      <td>4</td>\n",
       "      <td>Voco Me - Flim Flam Remix</td>\n",
       "      <td>DJ Icon</td>\n",
       "    </tr>\n",
       "    <tr>\n",
       "      <th>98</th>\n",
       "      <td>0.802</td>\n",
       "      <td>0.588</td>\n",
       "      <td>10</td>\n",
       "      <td>-11.046</td>\n",
       "      <td>0</td>\n",
       "      <td>0.0595</td>\n",
       "      <td>0.029900</td>\n",
       "      <td>0.8780</td>\n",
       "      <td>0.0822</td>\n",
       "      <td>0.0506</td>\n",
       "      <td>128.989</td>\n",
       "      <td>audio_features</td>\n",
       "      <td>2BWiEuSIWsagua4DewdXY5</td>\n",
       "      <td>spotify:track:2BWiEuSIWsagua4DewdXY5</td>\n",
       "      <td>https://api.spotify.com/v1/tracks/2BWiEuSIWsag...</td>\n",
       "      <td>https://api.spotify.com/v1/audio-analysis/2BWi...</td>\n",
       "      <td>419351</td>\n",
       "      <td>4</td>\n",
       "      <td>Exile 007 B2</td>\n",
       "      <td>Johannes Heil</td>\n",
       "    </tr>\n",
       "    <tr>\n",
       "      <th>99</th>\n",
       "      <td>0.728</td>\n",
       "      <td>0.975</td>\n",
       "      <td>8</td>\n",
       "      <td>-8.270</td>\n",
       "      <td>1</td>\n",
       "      <td>0.0670</td>\n",
       "      <td>0.002890</td>\n",
       "      <td>0.9240</td>\n",
       "      <td>0.1100</td>\n",
       "      <td>0.1300</td>\n",
       "      <td>125.026</td>\n",
       "      <td>audio_features</td>\n",
       "      <td>2lsokLfwtWTJhJ8e9agbca</td>\n",
       "      <td>spotify:track:2lsokLfwtWTJhJ8e9agbca</td>\n",
       "      <td>https://api.spotify.com/v1/tracks/2lsokLfwtWTJ...</td>\n",
       "      <td>https://api.spotify.com/v1/audio-analysis/2lso...</td>\n",
       "      <td>412609</td>\n",
       "      <td>4</td>\n",
       "      <td>Classified - Original Mix</td>\n",
       "      <td>Andres Campo</td>\n",
       "    </tr>\n",
       "  </tbody>\n",
       "</table>\n",
       "<p>973 rows × 20 columns</p>\n",
       "</div>"
      ],
      "text/plain": [
       "    danceability  energy  key  loudness  mode  speechiness  acousticness  \\\n",
       "0          0.774   0.505    5    -9.047     0       0.0469      0.012000   \n",
       "1          0.795   0.558    9    -7.939     0       0.0312      0.118000   \n",
       "2          0.867   0.603    2    -7.427     0       0.0637      0.356000   \n",
       "3          0.817   0.623    8    -6.856     1       0.0603      0.034900   \n",
       "4          0.790   0.647    8    -6.732     0       0.0375      0.200000   \n",
       "..           ...     ...  ...       ...   ...          ...           ...   \n",
       "95         0.798   0.880   11    -6.626     1       0.0445      0.000768   \n",
       "96         0.809   0.746    7   -12.131     1       0.0468      0.000061   \n",
       "97         0.688   0.961    9    -8.262     1       0.0432      0.169000   \n",
       "98         0.802   0.588   10   -11.046     0       0.0595      0.029900   \n",
       "99         0.728   0.975    8    -8.270     1       0.0670      0.002890   \n",
       "\n",
       "    instrumentalness  liveness  valence    tempo            type  \\\n",
       "0             0.0416    0.1070   0.4460  118.010  audio_features   \n",
       "1             0.0591    0.1050   0.2460  112.029  audio_features   \n",
       "2             0.0553    0.0765   0.6770  114.977  audio_features   \n",
       "3             0.2770    0.0619   0.5060  115.989  audio_features   \n",
       "4             0.1090    0.0766   0.7490  105.012  audio_features   \n",
       "..               ...       ...      ...      ...             ...   \n",
       "95            0.9270    0.1070   0.0685  125.992  audio_features   \n",
       "96            0.9400    0.1140   0.0370  121.998  audio_features   \n",
       "97            0.7810    0.1080   0.3070  135.118  audio_features   \n",
       "98            0.8780    0.0822   0.0506  128.989  audio_features   \n",
       "99            0.9240    0.1100   0.1300  125.026  audio_features   \n",
       "\n",
       "                        id                                   uri  \\\n",
       "0   0YDiCJBXYH6qmp2oIlPf6Z  spotify:track:0YDiCJBXYH6qmp2oIlPf6Z   \n",
       "1   5mEdU0a2nw4vsuA8Pr8Av2  spotify:track:5mEdU0a2nw4vsuA8Pr8Av2   \n",
       "2   6MzuROznsagl5Szc8w3Smj  spotify:track:6MzuROznsagl5Szc8w3Smj   \n",
       "3   0JNBcMPvsCeH8Ac4praGMo  spotify:track:0JNBcMPvsCeH8Ac4praGMo   \n",
       "4   3hxRKXzZS0XRYGZ123JDNH  spotify:track:3hxRKXzZS0XRYGZ123JDNH   \n",
       "..                     ...                                   ...   \n",
       "95  4b7qHjTUwT752wMn6BCxVK  spotify:track:4b7qHjTUwT752wMn6BCxVK   \n",
       "96  7KvBNIC7MEQLTpC7RbTMtI  spotify:track:7KvBNIC7MEQLTpC7RbTMtI   \n",
       "97  3RCYUa66bzSqIXQ34QGeHd  spotify:track:3RCYUa66bzSqIXQ34QGeHd   \n",
       "98  2BWiEuSIWsagua4DewdXY5  spotify:track:2BWiEuSIWsagua4DewdXY5   \n",
       "99  2lsokLfwtWTJhJ8e9agbca  spotify:track:2lsokLfwtWTJhJ8e9agbca   \n",
       "\n",
       "                                           track_href  \\\n",
       "0   https://api.spotify.com/v1/tracks/0YDiCJBXYH6q...   \n",
       "1   https://api.spotify.com/v1/tracks/5mEdU0a2nw4v...   \n",
       "2   https://api.spotify.com/v1/tracks/6MzuROznsagl...   \n",
       "3   https://api.spotify.com/v1/tracks/0JNBcMPvsCeH...   \n",
       "4   https://api.spotify.com/v1/tracks/3hxRKXzZS0XR...   \n",
       "..                                                ...   \n",
       "95  https://api.spotify.com/v1/tracks/4b7qHjTUwT75...   \n",
       "96  https://api.spotify.com/v1/tracks/7KvBNIC7MEQL...   \n",
       "97  https://api.spotify.com/v1/tracks/3RCYUa66bzSq...   \n",
       "98  https://api.spotify.com/v1/tracks/2BWiEuSIWsag...   \n",
       "99  https://api.spotify.com/v1/tracks/2lsokLfwtWTJ...   \n",
       "\n",
       "                                         analysis_url  duration_ms  \\\n",
       "0   https://api.spotify.com/v1/audio-analysis/0YDi...       391397   \n",
       "1   https://api.spotify.com/v1/audio-analysis/5mEd...       209648   \n",
       "2   https://api.spotify.com/v1/audio-analysis/6Mzu...       225181   \n",
       "3   https://api.spotify.com/v1/audio-analysis/0JNB...       380690   \n",
       "4   https://api.spotify.com/v1/audio-analysis/3hxR...       194707   \n",
       "..                                                ...          ...   \n",
       "95  https://api.spotify.com/v1/audio-analysis/4b7q...       398229   \n",
       "96  https://api.spotify.com/v1/audio-analysis/7KvB...       484841   \n",
       "97  https://api.spotify.com/v1/audio-analysis/3RCY...       505465   \n",
       "98  https://api.spotify.com/v1/audio-analysis/2BWi...       419351   \n",
       "99  https://api.spotify.com/v1/audio-analysis/2lso...       412609   \n",
       "\n",
       "    time_signature                               Name         Artist  \n",
       "0                4   Lightweight - Sandy Rivera Remix    Jason Burns  \n",
       "1                4              War (feat. August+Us)        Witness  \n",
       "2                4                Something About You   Hayden James  \n",
       "3                4                 Dolphins - Dub Mix  Freddy Verano  \n",
       "4                4  Djon maya maï (feat. Victor Démé)       Synapson  \n",
       "..             ...                                ...            ...  \n",
       "95               4                        Nine of You     Adam Beyer  \n",
       "96               4                    Holding Pattern         Karmon  \n",
       "97               4          Voco Me - Flim Flam Remix        DJ Icon  \n",
       "98               4                       Exile 007 B2  Johannes Heil  \n",
       "99               4          Classified - Original Mix   Andres Campo  \n",
       "\n",
       "[973 rows x 20 columns]"
      ]
     },
     "execution_count": 437,
     "metadata": {},
     "output_type": "execute_result"
    }
   ],
   "source": [
    "playlist_final"
   ]
  },
  {
   "cell_type": "code",
   "execution_count": 438,
   "metadata": {},
   "outputs": [],
   "source": [
    "#EDA"
   ]
  },
  {
   "cell_type": "code",
   "execution_count": 439,
   "metadata": {},
   "outputs": [
    {
     "name": "stdout",
     "output_type": "stream",
     "text": [
      "<class 'pandas.core.frame.DataFrame'>\n",
      "Int64Index: 973 entries, 0 to 99\n",
      "Data columns (total 20 columns):\n",
      " #   Column            Non-Null Count  Dtype  \n",
      "---  ------            --------------  -----  \n",
      " 0   danceability      973 non-null    float64\n",
      " 1   energy            973 non-null    float64\n",
      " 2   key               973 non-null    int64  \n",
      " 3   loudness          973 non-null    float64\n",
      " 4   mode              973 non-null    int64  \n",
      " 5   speechiness       973 non-null    float64\n",
      " 6   acousticness      973 non-null    float64\n",
      " 7   instrumentalness  973 non-null    float64\n",
      " 8   liveness          973 non-null    float64\n",
      " 9   valence           973 non-null    float64\n",
      " 10  tempo             973 non-null    float64\n",
      " 11  type              973 non-null    object \n",
      " 12  id                973 non-null    object \n",
      " 13  uri               973 non-null    object \n",
      " 14  track_href        973 non-null    object \n",
      " 15  analysis_url      973 non-null    object \n",
      " 16  duration_ms       973 non-null    int64  \n",
      " 17  time_signature    973 non-null    int64  \n",
      " 18  Name              973 non-null    object \n",
      " 19  Artist            873 non-null    object \n",
      "dtypes: float64(9), int64(4), object(7)\n",
      "memory usage: 159.6+ KB\n"
     ]
    }
   ],
   "source": [
    "playlist_final.info()"
   ]
  },
  {
   "cell_type": "code",
   "execution_count": 440,
   "metadata": {},
   "outputs": [],
   "source": [
    "playlist_final = playlist_final.drop_duplicates()"
   ]
  },
  {
   "cell_type": "code",
   "execution_count": 441,
   "metadata": {},
   "outputs": [
    {
     "data": {
      "image/png": "[encoded data removed]",
      "text/plain": [
       "<Figure size 1080x720 with 16 Axes>"
      ]
     },
     "metadata": {
      "needs_background": "light"
     },
     "output_type": "display_data"
    }
   ],
   "source": [
    "playlist_final.hist(figsize=(15,10));"
   ]
  },
  {
   "cell_type": "code",
   "execution_count": 442,
   "metadata": {},
   "outputs": [
    {
     "data": {
      "text/html": [
       "<div>\n",
       "<style scoped>\n",
       "    .dataframe tbody tr th:only-of-type {\n",
       "        vertical-align: middle;\n",
       "    }\n",
       "\n",
       "    .dataframe tbody tr th {\n",
       "        vertical-align: top;\n",
       "    }\n",
       "\n",
       "    .dataframe thead th {\n",
       "        text-align: right;\n",
       "    }\n",
       "</style>\n",
       "<table border=\"1\" class=\"dataframe\">\n",
       "  <thead>\n",
       "    <tr style=\"text-align: right;\">\n",
       "      <th></th>\n",
       "      <th>danceability</th>\n",
       "      <th>energy</th>\n",
       "      <th>key</th>\n",
       "      <th>loudness</th>\n",
       "      <th>mode</th>\n",
       "      <th>speechiness</th>\n",
       "      <th>acousticness</th>\n",
       "      <th>instrumentalness</th>\n",
       "      <th>liveness</th>\n",
       "      <th>valence</th>\n",
       "      <th>tempo</th>\n",
       "      <th>duration_ms</th>\n",
       "      <th>time_signature</th>\n",
       "    </tr>\n",
       "  </thead>\n",
       "  <tbody>\n",
       "    <tr>\n",
       "      <th>count</th>\n",
       "      <td>919.000000</td>\n",
       "      <td>919.000000</td>\n",
       "      <td>919.000000</td>\n",
       "      <td>919.000000</td>\n",
       "      <td>919.000000</td>\n",
       "      <td>919.000000</td>\n",
       "      <td>919.000000</td>\n",
       "      <td>919.000000</td>\n",
       "      <td>919.000000</td>\n",
       "      <td>919.000000</td>\n",
       "      <td>919.000000</td>\n",
       "      <td>919.000000</td>\n",
       "      <td>919.000000</td>\n",
       "    </tr>\n",
       "    <tr>\n",
       "      <th>mean</th>\n",
       "      <td>0.775715</td>\n",
       "      <td>0.695865</td>\n",
       "      <td>5.554951</td>\n",
       "      <td>-8.583304</td>\n",
       "      <td>0.491839</td>\n",
       "      <td>0.075868</td>\n",
       "      <td>0.085101</td>\n",
       "      <td>0.533583</td>\n",
       "      <td>0.145194</td>\n",
       "      <td>0.443553</td>\n",
       "      <td>122.249122</td>\n",
       "      <td>332593.394995</td>\n",
       "      <td>3.976061</td>\n",
       "    </tr>\n",
       "    <tr>\n",
       "      <th>std</th>\n",
       "      <td>0.096095</td>\n",
       "      <td>0.176425</td>\n",
       "      <td>3.680156</td>\n",
       "      <td>2.713493</td>\n",
       "      <td>0.500206</td>\n",
       "      <td>0.060200</td>\n",
       "      <td>0.163329</td>\n",
       "      <td>0.345698</td>\n",
       "      <td>0.137044</td>\n",
       "      <td>0.249461</td>\n",
       "      <td>9.838175</td>\n",
       "      <td>111342.990920</td>\n",
       "      <td>0.196576</td>\n",
       "    </tr>\n",
       "    <tr>\n",
       "      <th>min</th>\n",
       "      <td>0.349000</td>\n",
       "      <td>0.078600</td>\n",
       "      <td>0.000000</td>\n",
       "      <td>-21.739000</td>\n",
       "      <td>0.000000</td>\n",
       "      <td>0.025700</td>\n",
       "      <td>0.000008</td>\n",
       "      <td>0.000000</td>\n",
       "      <td>0.022600</td>\n",
       "      <td>0.033600</td>\n",
       "      <td>74.885000</td>\n",
       "      <td>96000.000000</td>\n",
       "      <td>1.000000</td>\n",
       "    </tr>\n",
       "    <tr>\n",
       "      <th>25%</th>\n",
       "      <td>0.726000</td>\n",
       "      <td>0.575000</td>\n",
       "      <td>2.000000</td>\n",
       "      <td>-10.009000</td>\n",
       "      <td>0.000000</td>\n",
       "      <td>0.045300</td>\n",
       "      <td>0.002370</td>\n",
       "      <td>0.161500</td>\n",
       "      <td>0.075350</td>\n",
       "      <td>0.234000</td>\n",
       "      <td>120.021500</td>\n",
       "      <td>230139.500000</td>\n",
       "      <td>4.000000</td>\n",
       "    </tr>\n",
       "    <tr>\n",
       "      <th>50%</th>\n",
       "      <td>0.795000</td>\n",
       "      <td>0.715000</td>\n",
       "      <td>6.000000</td>\n",
       "      <td>-8.280000</td>\n",
       "      <td>0.000000</td>\n",
       "      <td>0.058000</td>\n",
       "      <td>0.014900</td>\n",
       "      <td>0.645000</td>\n",
       "      <td>0.102000</td>\n",
       "      <td>0.422000</td>\n",
       "      <td>123.017000</td>\n",
       "      <td>343912.000000</td>\n",
       "      <td>4.000000</td>\n",
       "    </tr>\n",
       "    <tr>\n",
       "      <th>75%</th>\n",
       "      <td>0.835000</td>\n",
       "      <td>0.836500</td>\n",
       "      <td>9.000000</td>\n",
       "      <td>-6.760000</td>\n",
       "      <td>1.000000</td>\n",
       "      <td>0.078350</td>\n",
       "      <td>0.082200</td>\n",
       "      <td>0.856500</td>\n",
       "      <td>0.137000</td>\n",
       "      <td>0.642000</td>\n",
       "      <td>125.007000</td>\n",
       "      <td>412554.500000</td>\n",
       "      <td>4.000000</td>\n",
       "    </tr>\n",
       "    <tr>\n",
       "      <th>max</th>\n",
       "      <td>0.985000</td>\n",
       "      <td>0.995000</td>\n",
       "      <td>11.000000</td>\n",
       "      <td>-1.956000</td>\n",
       "      <td>1.000000</td>\n",
       "      <td>0.533000</td>\n",
       "      <td>0.945000</td>\n",
       "      <td>0.976000</td>\n",
       "      <td>0.950000</td>\n",
       "      <td>0.980000</td>\n",
       "      <td>247.957000</td>\n",
       "      <td>849960.000000</td>\n",
       "      <td>5.000000</td>\n",
       "    </tr>\n",
       "  </tbody>\n",
       "</table>\n",
       "</div>"
      ],
      "text/plain": [
       "       danceability      energy         key    loudness        mode  \\\n",
       "count    919.000000  919.000000  919.000000  919.000000  919.000000   \n",
       "mean       0.775715    0.695865    5.554951   -8.583304    0.491839   \n",
       "std        0.096095    0.176425    3.680156    2.713493    0.500206   \n",
       "min        0.349000    0.078600    0.000000  -21.739000    0.000000   \n",
       "25%        0.726000    0.575000    2.000000  -10.009000    0.000000   \n",
       "50%        0.795000    0.715000    6.000000   -8.280000    0.000000   \n",
       "75%        0.835000    0.836500    9.000000   -6.760000    1.000000   \n",
       "max        0.985000    0.995000   11.000000   -1.956000    1.000000   \n",
       "\n",
       "       speechiness  acousticness  instrumentalness    liveness     valence  \\\n",
       "count   919.000000    919.000000        919.000000  919.000000  919.000000   \n",
       "mean      0.075868      0.085101          0.533583    0.145194    0.443553   \n",
       "std       0.060200      0.163329          0.345698    0.137044    0.249461   \n",
       "min       0.025700      0.000008          0.000000    0.022600    0.033600   \n",
       "25%       0.045300      0.002370          0.161500    0.075350    0.234000   \n",
       "50%       0.058000      0.014900          0.645000    0.102000    0.422000   \n",
       "75%       0.078350      0.082200          0.856500    0.137000    0.642000   \n",
       "max       0.533000      0.945000          0.976000    0.950000    0.980000   \n",
       "\n",
       "            tempo    duration_ms  time_signature  \n",
       "count  919.000000     919.000000      919.000000  \n",
       "mean   122.249122  332593.394995        3.976061  \n",
       "std      9.838175  111342.990920        0.196576  \n",
       "min     74.885000   96000.000000        1.000000  \n",
       "25%    120.021500  230139.500000        4.000000  \n",
       "50%    123.017000  343912.000000        4.000000  \n",
       "75%    125.007000  412554.500000        4.000000  \n",
       "max    247.957000  849960.000000        5.000000  "
      ]
     },
     "execution_count": 442,
     "metadata": {},
     "output_type": "execute_result"
    }
   ],
   "source": [
    "playlist_final.describe()"
   ]
  },
  {
   "cell_type": "code",
   "execution_count": 443,
   "metadata": {},
   "outputs": [],
   "source": [
    "num_X = playlist_final.select_dtypes(include=np.number)"
   ]
  },
  {
   "cell_type": "code",
   "execution_count": 476,
   "metadata": {},
   "outputs": [],
   "source": [
    "columns = num_X.columns"
   ]
  },
  {
   "cell_type": "code",
   "execution_count": 477,
   "metadata": {},
   "outputs": [],
   "source": [
    "scaler = StandardScaler()"
   ]
  },
  {
   "cell_type": "code",
   "execution_count": 478,
   "metadata": {},
   "outputs": [
    {
     "data": {
      "text/plain": [
       "StandardScaler()"
      ]
     },
     "execution_count": 478,
     "metadata": {},
     "output_type": "execute_result"
    }
   ],
   "source": [
    "scaler.fit(num_X)"
   ]
  },
  {
   "cell_type": "code",
   "execution_count": 479,
   "metadata": {},
   "outputs": [],
   "source": [
    "X_prep = scaler.transform(num_X)"
   ]
  },
  {
   "cell_type": "code",
   "execution_count": 446,
   "metadata": {},
   "outputs": [],
   "source": [
    "X_prep_df = pd.DataFrame(X_prep, columns = columns)"
   ]
  },
  {
   "cell_type": "code",
   "execution_count": 447,
   "metadata": {},
   "outputs": [
    {
     "data": {
      "text/html": [
       "<div>\n",
       "<style scoped>\n",
       "    .dataframe tbody tr th:only-of-type {\n",
       "        vertical-align: middle;\n",
       "    }\n",
       "\n",
       "    .dataframe tbody tr th {\n",
       "        vertical-align: top;\n",
       "    }\n",
       "\n",
       "    .dataframe thead th {\n",
       "        text-align: right;\n",
       "    }\n",
       "</style>\n",
       "<table border=\"1\" class=\"dataframe\">\n",
       "  <thead>\n",
       "    <tr style=\"text-align: right;\">\n",
       "      <th></th>\n",
       "      <th>danceability</th>\n",
       "      <th>energy</th>\n",
       "      <th>key</th>\n",
       "      <th>loudness</th>\n",
       "      <th>mode</th>\n",
       "      <th>speechiness</th>\n",
       "      <th>acousticness</th>\n",
       "      <th>instrumentalness</th>\n",
       "      <th>liveness</th>\n",
       "      <th>valence</th>\n",
       "      <th>tempo</th>\n",
       "      <th>duration_ms</th>\n",
       "      <th>time_signature</th>\n",
       "    </tr>\n",
       "  </thead>\n",
       "  <tbody>\n",
       "    <tr>\n",
       "      <th>0</th>\n",
       "      <td>-0.017856</td>\n",
       "      <td>-1.082437</td>\n",
       "      <td>-0.150878</td>\n",
       "      <td>-0.170978</td>\n",
       "      <td>-0.983809</td>\n",
       "      <td>-0.481466</td>\n",
       "      <td>-0.447809</td>\n",
       "      <td>-1.423935</td>\n",
       "      <td>-0.278850</td>\n",
       "      <td>0.009813</td>\n",
       "      <td>-0.431120</td>\n",
       "      <td>0.528418</td>\n",
       "      <td>0.121847</td>\n",
       "    </tr>\n",
       "    <tr>\n",
       "      <th>1</th>\n",
       "      <td>0.200798</td>\n",
       "      <td>-0.781862</td>\n",
       "      <td>0.936625</td>\n",
       "      <td>0.237574</td>\n",
       "      <td>-0.983809</td>\n",
       "      <td>-0.742407</td>\n",
       "      <td>0.201539</td>\n",
       "      <td>-1.373285</td>\n",
       "      <td>-0.293452</td>\n",
       "      <td>-0.792354</td>\n",
       "      <td>-1.039389</td>\n",
       "      <td>-1.104805</td>\n",
       "      <td>0.121847</td>\n",
       "    </tr>\n",
       "    <tr>\n",
       "      <th>2</th>\n",
       "      <td>0.950468</td>\n",
       "      <td>-0.526656</td>\n",
       "      <td>-0.966504</td>\n",
       "      <td>0.426363</td>\n",
       "      <td>-0.983809</td>\n",
       "      <td>-0.202242</td>\n",
       "      <td>1.659510</td>\n",
       "      <td>-1.384283</td>\n",
       "      <td>-0.501527</td>\n",
       "      <td>0.936315</td>\n",
       "      <td>-0.739576</td>\n",
       "      <td>-0.965224</td>\n",
       "      <td>0.121847</td>\n",
       "    </tr>\n",
       "    <tr>\n",
       "      <th>3</th>\n",
       "      <td>0.429864</td>\n",
       "      <td>-0.413232</td>\n",
       "      <td>0.664749</td>\n",
       "      <td>0.636907</td>\n",
       "      <td>1.016457</td>\n",
       "      <td>-0.258751</td>\n",
       "      <td>-0.307526</td>\n",
       "      <td>-0.742622</td>\n",
       "      <td>-0.608120</td>\n",
       "      <td>0.250463</td>\n",
       "      <td>-0.636656</td>\n",
       "      <td>0.432203</td>\n",
       "      <td>0.121847</td>\n",
       "    </tr>\n",
       "    <tr>\n",
       "      <th>4</th>\n",
       "      <td>0.148738</td>\n",
       "      <td>-0.277122</td>\n",
       "      <td>0.664749</td>\n",
       "      <td>0.682630</td>\n",
       "      <td>-0.983809</td>\n",
       "      <td>-0.637698</td>\n",
       "      <td>0.703865</td>\n",
       "      <td>-1.228861</td>\n",
       "      <td>-0.500797</td>\n",
       "      <td>1.225095</td>\n",
       "      <td>-1.753019</td>\n",
       "      <td>-1.239067</td>\n",
       "      <td>0.121847</td>\n",
       "    </tr>\n",
       "    <tr>\n",
       "      <th>...</th>\n",
       "      <td>...</td>\n",
       "      <td>...</td>\n",
       "      <td>...</td>\n",
       "      <td>...</td>\n",
       "      <td>...</td>\n",
       "      <td>...</td>\n",
       "      <td>...</td>\n",
       "      <td>...</td>\n",
       "      <td>...</td>\n",
       "      <td>...</td>\n",
       "      <td>...</td>\n",
       "      <td>...</td>\n",
       "      <td>...</td>\n",
       "    </tr>\n",
       "    <tr>\n",
       "      <th>914</th>\n",
       "      <td>0.232034</td>\n",
       "      <td>1.044274</td>\n",
       "      <td>1.480376</td>\n",
       "      <td>0.721715</td>\n",
       "      <td>1.016457</td>\n",
       "      <td>-0.521355</td>\n",
       "      <td>-0.516616</td>\n",
       "      <td>1.138657</td>\n",
       "      <td>-0.278850</td>\n",
       "      <td>-1.504276</td>\n",
       "      <td>0.380651</td>\n",
       "      <td>0.589811</td>\n",
       "      <td>0.121847</td>\n",
       "    </tr>\n",
       "    <tr>\n",
       "      <th>915</th>\n",
       "      <td>0.346567</td>\n",
       "      <td>0.284329</td>\n",
       "      <td>0.392874</td>\n",
       "      <td>-1.308140</td>\n",
       "      <td>1.016457</td>\n",
       "      <td>-0.483128</td>\n",
       "      <td>-0.520949</td>\n",
       "      <td>1.176283</td>\n",
       "      <td>-0.227743</td>\n",
       "      <td>-1.630617</td>\n",
       "      <td>-0.025539</td>\n",
       "      <td>1.368119</td>\n",
       "      <td>0.121847</td>\n",
       "    </tr>\n",
       "    <tr>\n",
       "      <th>916</th>\n",
       "      <td>-0.913295</td>\n",
       "      <td>1.503643</td>\n",
       "      <td>0.936625</td>\n",
       "      <td>0.118474</td>\n",
       "      <td>1.016457</td>\n",
       "      <td>-0.542961</td>\n",
       "      <td>0.513961</td>\n",
       "      <td>0.716093</td>\n",
       "      <td>-0.271549</td>\n",
       "      <td>-0.547693</td>\n",
       "      <td>1.308768</td>\n",
       "      <td>1.553450</td>\n",
       "      <td>0.121847</td>\n",
       "    </tr>\n",
       "    <tr>\n",
       "      <th>917</th>\n",
       "      <td>0.273683</td>\n",
       "      <td>-0.611725</td>\n",
       "      <td>1.208500</td>\n",
       "      <td>-0.908068</td>\n",
       "      <td>-0.983809</td>\n",
       "      <td>-0.272048</td>\n",
       "      <td>-0.338155</td>\n",
       "      <td>0.996838</td>\n",
       "      <td>-0.459912</td>\n",
       "      <td>-1.576070</td>\n",
       "      <td>0.685447</td>\n",
       "      <td>0.779617</td>\n",
       "      <td>0.121847</td>\n",
       "    </tr>\n",
       "    <tr>\n",
       "      <th>918</th>\n",
       "      <td>-0.496811</td>\n",
       "      <td>1.583040</td>\n",
       "      <td>0.664749</td>\n",
       "      <td>0.115524</td>\n",
       "      <td>1.016457</td>\n",
       "      <td>-0.147394</td>\n",
       "      <td>-0.503617</td>\n",
       "      <td>1.129974</td>\n",
       "      <td>-0.256947</td>\n",
       "      <td>-1.257610</td>\n",
       "      <td>0.282409</td>\n",
       "      <td>0.719032</td>\n",
       "      <td>0.121847</td>\n",
       "    </tr>\n",
       "  </tbody>\n",
       "</table>\n",
       "<p>919 rows × 13 columns</p>\n",
       "</div>"
      ],
      "text/plain": [
       "     danceability    energy       key  loudness      mode  speechiness  \\\n",
       "0       -0.017856 -1.082437 -0.150878 -0.170978 -0.983809    -0.481466   \n",
       "1        0.200798 -0.781862  0.936625  0.237574 -0.983809    -0.742407   \n",
       "2        0.950468 -0.526656 -0.966504  0.426363 -0.983809    -0.202242   \n",
       "3        0.429864 -0.413232  0.664749  0.636907  1.016457    -0.258751   \n",
       "4        0.148738 -0.277122  0.664749  0.682630 -0.983809    -0.637698   \n",
       "..            ...       ...       ...       ...       ...          ...   \n",
       "914      0.232034  1.044274  1.480376  0.721715  1.016457    -0.521355   \n",
       "915      0.346567  0.284329  0.392874 -1.308140  1.016457    -0.483128   \n",
       "916     -0.913295  1.503643  0.936625  0.118474  1.016457    -0.542961   \n",
       "917      0.273683 -0.611725  1.208500 -0.908068 -0.983809    -0.272048   \n",
       "918     -0.496811  1.583040  0.664749  0.115524  1.016457    -0.147394   \n",
       "\n",
       "     acousticness  instrumentalness  liveness   valence     tempo  \\\n",
       "0       -0.447809         -1.423935 -0.278850  0.009813 -0.431120   \n",
       "1        0.201539         -1.373285 -0.293452 -0.792354 -1.039389   \n",
       "2        1.659510         -1.384283 -0.501527  0.936315 -0.739576   \n",
       "3       -0.307526         -0.742622 -0.608120  0.250463 -0.636656   \n",
       "4        0.703865         -1.228861 -0.500797  1.225095 -1.753019   \n",
       "..            ...               ...       ...       ...       ...   \n",
       "914     -0.516616          1.138657 -0.278850 -1.504276  0.380651   \n",
       "915     -0.520949          1.176283 -0.227743 -1.630617 -0.025539   \n",
       "916      0.513961          0.716093 -0.271549 -0.547693  1.308768   \n",
       "917     -0.338155          0.996838 -0.459912 -1.576070  0.685447   \n",
       "918     -0.503617          1.129974 -0.256947 -1.257610  0.282409   \n",
       "\n",
       "     duration_ms  time_signature  \n",
       "0       0.528418        0.121847  \n",
       "1      -1.104805        0.121847  \n",
       "2      -0.965224        0.121847  \n",
       "3       0.432203        0.121847  \n",
       "4      -1.239067        0.121847  \n",
       "..           ...             ...  \n",
       "914     0.589811        0.121847  \n",
       "915     1.368119        0.121847  \n",
       "916     1.553450        0.121847  \n",
       "917     0.779617        0.121847  \n",
       "918     0.719032        0.121847  \n",
       "\n",
       "[919 rows x 13 columns]"
      ]
     },
     "execution_count": 447,
     "metadata": {},
     "output_type": "execute_result"
    }
   ],
   "source": [
    "X_prep_df"
   ]
  },
  {
   "cell_type": "code",
   "execution_count": 448,
   "metadata": {},
   "outputs": [
    {
     "name": "stdout",
     "output_type": "stream",
     "text": [
      "[10613.860046803858, 9707.330255143332, 9146.668088157741, 8634.729289565408, 7994.774706886501, 7531.487850065172, 7168.64826495955, 6930.942449993516, 6687.02793351902, 6490.548957559769, 6377.111891754172, 6113.717374640924, 5923.225850865112, 5809.286254817258, 5748.186260553211, 5673.478912203182, 5562.534975963784, 5420.123088169237, 5331.9620645070745, 5268.097210509198, 5033.845846233276, 4969.418586468432, 4882.315178443978, 4854.093978307104, 4752.587277888717, 4695.039025456128, 4638.703118792346, 4600.97684922451, 4507.11837822436, 4497.150866855186, 4447.916799885628, 4417.901191379014, 4378.095332936721, 4328.938484602231, 4309.010249957671, 4226.3473012719805, 4176.799010740141, 4212.914184461152, 4127.85139457372, 4109.183246573452, 4084.9502144797702, 4040.1007006362365, 4073.4219205119, 4058.185532894223, 3996.2398060954483, 3993.5109183274594, 3885.8617678862392, 3820.3887935626335]\n"
     ]
    }
   ],
   "source": [
    "# Try to run Kmeans with all values of K, from 2 to 20\n",
    "K = range(2, 50)\n",
    "\n",
    "# For each model, store the inertia in a list\n",
    "inertia = []\n",
    "\n",
    "for i in K:\n",
    "    kmeans1 = KMeans(n_clusters=i, init=\"random\", n_init=10, max_iter=200,tol=0,algorithm=\"full\", random_state=40)\n",
    "    kmeans1.fit(X_prep)\n",
    "    inertia.append(kmeans1.inertia_)\n",
    "\n",
    "\n",
    "print(inertia)"
   ]
  },
  {
   "cell_type": "code",
   "execution_count": 449,
   "metadata": {},
   "outputs": [
    {
     "data": {
      "text/plain": [
       "Text(0.5, 1.0, 'Elbow Method showing the optimal k')"
      ]
     },
     "execution_count": 449,
     "metadata": {},
     "output_type": "execute_result"
    },
    {
     "data": {
      "image/png": "[encoded data removed]",
      "text/plain": [
       "<Figure size 1152x576 with 1 Axes>"
      ]
     },
     "metadata": {
      "needs_background": "light"
     },
     "output_type": "display_data"
    }
   ],
   "source": [
    "%matplotlib inline\n",
    "\n",
    "plt.figure(figsize=(16,8))\n",
    "plt.plot(K, inertia, 'bx-')\n",
    "plt.xlabel('k')\n",
    "plt.ylabel('inertia')\n",
    "plt.xticks(np.arange(min(K), max(K)+1, 1.0))\n",
    "plt.title('Elbow Method showing the optimal k')"
   ]
  },
  {
   "cell_type": "code",
   "execution_count": 450,
   "metadata": {},
   "outputs": [],
   "source": [
    "K = range(2, 20)\n",
    "\n",
    "silhouettes = []\n",
    "\n",
    "for k in K: \n",
    "    kmeans=KMeans(n_clusters=k, random_state=40)\n",
    "    kmeans.fit(X_prep)\n",
    "    silhouettes.append(silhouette_score(X_prep, kmeans.predict(X_prep)))"
   ]
  },
  {
   "cell_type": "code",
   "execution_count": 451,
   "metadata": {},
   "outputs": [
    {
     "data": {
      "text/plain": [
       "Text(0, 0.5, 'silhouette score')"
      ]
     },
     "execution_count": 451,
     "metadata": {},
     "output_type": "execute_result"
    },
    {
     "data": {
      "image/png": "[encoded data removed]",
      "text/plain": [
       "<Figure size 1152x576 with 1 Axes>"
      ]
     },
     "metadata": {
      "needs_background": "light"
     },
     "output_type": "display_data"
    }
   ],
   "source": [
    "plt.figure(figsize=(16,8))\n",
    "plt.plot(K, silhouettes, 'bo-')\n",
    "plt.xlabel('k (number of clusters)')\n",
    "plt.xticks(np.arange(min(K), max(K)+1, 1.0))\n",
    "plt.ylabel('silhouette score')"
   ]
  },
  {
   "cell_type": "code",
   "execution_count": 452,
   "metadata": {
    "scrolled": false
   },
   "outputs": [
    {
     "data": {
      "text/plain": [
       "array([ 3,  5,  5,  1,  5,  5, 11,  2,  6,  3, 10,  3, 11,  3,  3, 11,  3,\n",
       "        5, 11, 11,  5, 11,  3,  3,  2,  2, 11,  3, 10,  7,  4,  3,  0,  3,\n",
       "       11, 10,  3,  5,  3,  5,  2,  5,  8,  5,  8, 11,  3,  1,  2, 11,  1,\n",
       "        8,  2,  8,  8,  8,  8,  5,  6,  3,  3,  1,  3,  7, 10,  5,  3,  3,\n",
       "        8,  4, 11, 11,  3,  3,  2,  3, 11,  3, 11, 10,  1,  3, 11,  7,  3,\n",
       "       11,  2, 11,  2,  3, 11,  4,  3, 10,  3,  5,  2,  3,  2,  6,  8,  2,\n",
       "        6,  2,  0,  3,  1,  8,  8,  5, 11,  3,  0,  6,  3,  6,  6,  6,  1,\n",
       "        8,  6, 11,  0,  3,  4,  6,  6,  4,  8,  6,  3, 10, 11,  1,  8,  3,\n",
       "        5,  3,  8,  4,  5,  3, 11,  5,  8,  3,  6, 11, 10,  4,  3, 11,  3,\n",
       "        1,  3,  6,  8, 11, 11, 11,  5, 11,  3,  8,  6,  8,  0,  1,  3,  8,\n",
       "        1,  6,  8, 10, 11, 10,  8,  6, 10,  3,  2,  0,  1,  6,  3,  3, 11,\n",
       "        5,  8, 11,  8,  1,  8,  1,  3,  0, 11,  8,  2,  2,  2,  5,  2,  2,\n",
       "        3, 10, 10,  2,  3,  2,  2, 10,  3,  2, 11,  3,  6, 10,  9,  8,  8,\n",
       "        1,  2,  2, 11,  3,  2,  2, 11,  0,  7,  2,  2, 10,  3,  1,  2,  3,\n",
       "        0,  6,  3,  3,  4,  0, 10,  3,  2, 11,  2,  8,  0,  3,  6,  2,  9,\n",
       "        4,  4,  2,  3,  2,  4, 11, 11,  3,  6,  4,  8,  4,  4,  3,  2,  1,\n",
       "        6,  4, 11, 11,  4,  6,  4,  7,  3,  9,  4, 11,  3,  4,  2, 11,  4,\n",
       "        4,  6,  6,  4,  3,  9,  9, 11,  4,  3,  3, 11,  6,  4, 11,  5,  5,\n",
       "       11,  1, 10,  9,  3,  3,  3,  8,  8,  3,  8,  8,  3, 11,  6,  6,  5,\n",
       "        8, 10,  1,  6,  3,  8,  1,  8, 10,  5, 11,  0,  0,  5, 11,  3, 11,\n",
       "        5,  6,  1,  2,  6,  6,  5,  0,  8,  1,  6,  0,  5,  0,  1,  9, 11,\n",
       "       11,  4,  4,  8,  8,  2,  4, 10,  6,  5,  6, 10,  4,  1,  0,  6,  6,\n",
       "        1, 11,  1,  8, 11,  1,  0,  0,  1, 11,  6,  6,  0,  5, 10,  5,  6,\n",
       "        8,  8,  5,  0,  5,  8,  9,  5,  5,  1,  6,  8, 10,  8,  1,  8, 11,\n",
       "        4,  1,  5,  5, 10, 11,  8,  1,  1,  1,  5,  1, 11, 11,  6,  1,  5,\n",
       "        8, 10,  0,  3,  6,  8,  6,  6,  3, 11,  1,  1, 11,  0,  6,  8,  0,\n",
       "        0,  5,  1,  1,  6, 11, 11,  1,  6, 11,  1,  8, 11,  8,  6,  1,  8,\n",
       "        3,  8,  4,  1,  6,  1,  3, 11,  1,  8,  6, 11,  8,  6,  4, 11,  1,\n",
       "        1,  6, 11,  6,  0, 11,  5,  1,  3,  3,  0,  8,  5,  8,  5,  5,  8,\n",
       "       11,  6,  5,  5,  8,  8,  6,  0,  5,  3,  6,  5,  3,  8,  3,  0,  0,\n",
       "        3,  5,  3, 10, 10,  6, 10,  3,  5,  2,  5,  5,  5, 11,  6,  5,  5,\n",
       "        6,  8, 10,  6, 10,  8,  6,  6,  5,  5,  5,  6,  5,  6,  8,  3,  4,\n",
       "        8,  7,  3,  4, 10,  3,  5,  5,  8,  1,  1,  5,  5,  5,  4,  0,  8,\n",
       "       11,  5,  8,  8,  8,  4,  1,  8,  3,  1, 11,  1,  3,  8,  8,  5,  1,\n",
       "        8,  1,  0,  4,  3,  6,  6,  4,  6,  0,  0,  6,  3, 11,  1, 11,  6,\n",
       "        5,  3,  1, 11,  5,  1,  5,  4,  0,  3,  3,  0, 11,  6,  8,  8,  6,\n",
       "       11,  6,  5,  1,  5,  1,  2,  1,  6,  8,  5, 11,  9,  6,  0,  5,  5,\n",
       "        8,  8,  1,  1, 11,  3,  4,  4,  5,  8,  5,  4,  0,  4,  1,  5,  6,\n",
       "        1,  4,  3,  4,  4,  3,  6,  5,  5,  5,  8,  8,  8,  5,  6,  4,  5,\n",
       "        4,  6,  5,  5,  4,  4,  1,  4,  5,  4,  4,  4,  6,  8,  5,  5,  4,\n",
       "        3,  8,  5,  5, 10,  1,  4,  4,  4,  4,  4,  8,  8,  5,  4,  1,  6,\n",
       "       10,  6, 11,  3,  6,  4,  5,  5,  8,  4,  4,  5,  5,  8,  8, 11,  4,\n",
       "        4,  4,  5, 10,  5,  5,  5,  4,  9,  5,  5,  3,  4,  5,  5,  4,  8,\n",
       "        4,  5,  4,  4,  9, 11,  4, 10,  0,  5,  8,  6, 11, 11, 11, 11,  6,\n",
       "        1,  6,  6,  6,  5, 11,  5,  1,  5,  6, 11,  3,  6, 11, 11,  6, 11,\n",
       "        1, 11,  1,  3,  6,  0,  5,  3,  1,  8,  1,  0, 11, 11,  8, 11,  9,\n",
       "        1,  1, 11, 10, 11,  3,  1,  6, 11,  8,  0,  1, 11,  6,  1,  5,  8,\n",
       "        6,  8, 11,  6,  1,  3,  3, 11,  6,  8,  1, 11,  3,  0,  0,  3,  6,\n",
       "        8,  6, 11,  8,  5, 11,  9,  2,  6,  6,  1,  3,  1,  6, 11,  6, 11,\n",
       "       11,  6,  6,  3,  6,  3,  3, 11, 11, 11,  6,  5,  1,  3,  6,  6, 11,\n",
       "        1, 11,  1,  6, 11,  0,  9,  2,  3,  6,  0,  6,  7, 11,  3, 11,  6,\n",
       "        6, 11,  1,  6,  1, 11,  3,  8,  6,  8,  3,  8, 11,  5,  8,  6,  6,\n",
       "        1, 11, 11,  6, 11,  0,  9, 11, 11, 11,  3,  8,  1, 11, 11,  1,  9,\n",
       "        6,  6,  6,  9,  9,  6,  3, 11, 11,  0, 11,  3,  1, 11, 11, 11,  3,\n",
       "       11], dtype=int32)"
      ]
     },
     "execution_count": 452,
     "metadata": {},
     "output_type": "execute_result"
    }
   ],
   "source": [
    "kmeans = KMeans(n_clusters=12, random_state=40)\n",
    "kmeans.fit(X_prep)\n",
    "kmeans.predict(X_prep)"
   ]
  },
  {
   "cell_type": "code",
   "execution_count": 472,
   "metadata": {},
   "outputs": [
    {
     "data": {
      "text/plain": [
       "(919, 13)"
      ]
     },
     "execution_count": 472,
     "metadata": {},
     "output_type": "execute_result"
    }
   ],
   "source": [
    "X_prep.shape"
   ]
  },
  {
   "cell_type": "code",
   "execution_count": 454,
   "metadata": {},
   "outputs": [
    {
     "name": "stderr",
     "output_type": "stream",
     "text": [
      "<ipython-input-454-179c972f5317>:1: SettingWithCopyWarning: \n",
      "A value is trying to be set on a copy of a slice from a DataFrame.\n",
      "Try using .loc[row_indexer,col_indexer] = value instead\n",
      "\n",
      "See the caveats in the documentation: https://pandas.pydata.org/pandas-docs/stable/user_guide/indexing.html#returning-a-view-versus-a-copy\n",
      "  playlist_final['Cluster']= kmeans.predict(X_prep)\n"
     ]
    }
   ],
   "source": [
    "playlist_final['Cluster']= kmeans.predict(X_prep)"
   ]
  },
  {
   "cell_type": "code",
   "execution_count": 455,
   "metadata": {},
   "outputs": [
    {
     "data": {
      "text/plain": [
       "(919, 21)"
      ]
     },
     "execution_count": 455,
     "metadata": {},
     "output_type": "execute_result"
    }
   ],
   "source": [
    "playlist_final.shape"
   ]
  },
  {
   "cell_type": "markdown",
   "metadata": {},
   "source": [
    "Prototype"
   ]
  },
  {
   "cell_type": "code",
   "execution_count": 456,
   "metadata": {},
   "outputs": [],
   "source": [
    "url = \"https://www.billboard.com/charts/hot-100\"\n",
    "\n",
    "response = requests.get(url)"
   ]
  },
  {
   "cell_type": "code",
   "execution_count": 457,
   "metadata": {},
   "outputs": [],
   "source": [
    "music = BeautifulSoup(response.content,'html.parser')"
   ]
  },
  {
   "cell_type": "code",
   "execution_count": 458,
   "metadata": {},
   "outputs": [],
   "source": [
    "title = []\n",
    "artist =[]\n",
    "\n",
    "len_music=len(music.select(\"span.chart-element__information__song\"))"
   ]
  },
  {
   "cell_type": "code",
   "execution_count": 459,
   "metadata": {},
   "outputs": [
    {
     "data": {
      "application/vnd.jupyter.widget-view+json": {
       "model_id": "b7e7a8d024a148eaadf064a571dd4694",
       "version_major": 2,
       "version_minor": 0
      },
      "text/plain": [
       "  0%|          | 0/100 [00:00<?, ?it/s]"
      ]
     },
     "metadata": {},
     "output_type": "display_data"
    }
   ],
   "source": [
    "for i in tqdm(range(len_music)):\n",
    "    title.append(music.select(\"span.chart-element__information__song\")[i].text)\n",
    "    artist.append(music.select(\"span.chart-element__information__artist\")[i].text)"
   ]
  },
  {
   "cell_type": "code",
   "execution_count": 460,
   "metadata": {},
   "outputs": [],
   "source": [
    "music_top100 = pd.DataFrame({'title':title,\"artist\":artist})"
   ]
  },
  {
   "cell_type": "code",
   "execution_count": null,
   "metadata": {},
   "outputs": [],
   "source": []
  },
  {
   "cell_type": "code",
   "execution_count": 461,
   "metadata": {},
   "outputs": [
    {
     "name": "stdout",
     "output_type": "stream",
     "text": [
      "What song do you like? Butter\n"
     ]
    }
   ],
   "source": [
    "song = input(\"What song do you like? \")"
   ]
  },
  {
   "cell_type": "code",
   "execution_count": 462,
   "metadata": {},
   "outputs": [
    {
     "name": "stdout",
     "output_type": "stream",
     "text": [
      "You should like...Having Our Way\n"
     ]
    }
   ],
   "source": [
    "if song in title:\n",
    "    n = random.choice(title)\n",
    "    print(\"You should like...\" + n)\n",
    "else:\n",
    "    \n",
    "    print(\"Seems like you like songs off the beaten path, I recommend...\"+ l)    "
   ]
  },
  {
   "cell_type": "code",
   "execution_count": null,
   "metadata": {},
   "outputs": [],
   "source": []
  },
  {
   "cell_type": "code",
   "execution_count": 463,
   "metadata": {},
   "outputs": [],
   "source": [
    "results = sp.search(q= song, limit = 1)"
   ]
  },
  {
   "cell_type": "code",
   "execution_count": 464,
   "metadata": {},
   "outputs": [],
   "source": [
    "song_features=pd.DataFrame(sp.audio_features(results['tracks']['items'][0]['id']))"
   ]
  },
  {
   "cell_type": "code",
   "execution_count": 465,
   "metadata": {
    "scrolled": true
   },
   "outputs": [
    {
     "data": {
      "text/html": [
       "<div>\n",
       "<style scoped>\n",
       "    .dataframe tbody tr th:only-of-type {\n",
       "        vertical-align: middle;\n",
       "    }\n",
       "\n",
       "    .dataframe tbody tr th {\n",
       "        vertical-align: top;\n",
       "    }\n",
       "\n",
       "    .dataframe thead th {\n",
       "        text-align: right;\n",
       "    }\n",
       "</style>\n",
       "<table border=\"1\" class=\"dataframe\">\n",
       "  <thead>\n",
       "    <tr style=\"text-align: right;\">\n",
       "      <th></th>\n",
       "      <th>danceability</th>\n",
       "      <th>energy</th>\n",
       "      <th>key</th>\n",
       "      <th>loudness</th>\n",
       "      <th>mode</th>\n",
       "      <th>speechiness</th>\n",
       "      <th>acousticness</th>\n",
       "      <th>instrumentalness</th>\n",
       "      <th>liveness</th>\n",
       "      <th>valence</th>\n",
       "      <th>tempo</th>\n",
       "      <th>type</th>\n",
       "      <th>id</th>\n",
       "      <th>uri</th>\n",
       "      <th>track_href</th>\n",
       "      <th>analysis_url</th>\n",
       "      <th>duration_ms</th>\n",
       "      <th>time_signature</th>\n",
       "    </tr>\n",
       "  </thead>\n",
       "  <tbody>\n",
       "    <tr>\n",
       "      <th>0</th>\n",
       "      <td>0.759</td>\n",
       "      <td>0.459</td>\n",
       "      <td>8</td>\n",
       "      <td>-5.187</td>\n",
       "      <td>1</td>\n",
       "      <td>0.0948</td>\n",
       "      <td>0.00323</td>\n",
       "      <td>0</td>\n",
       "      <td>0.0906</td>\n",
       "      <td>0.695</td>\n",
       "      <td>109.997</td>\n",
       "      <td>audio_features</td>\n",
       "      <td>2bgTY4UwhfBYhGT4HUYStN</td>\n",
       "      <td>spotify:track:2bgTY4UwhfBYhGT4HUYStN</td>\n",
       "      <td>https://api.spotify.com/v1/tracks/2bgTY4UwhfBY...</td>\n",
       "      <td>https://api.spotify.com/v1/audio-analysis/2bgT...</td>\n",
       "      <td>164442</td>\n",
       "      <td>4</td>\n",
       "    </tr>\n",
       "  </tbody>\n",
       "</table>\n",
       "</div>"
      ],
      "text/plain": [
       "   danceability  energy  key  loudness  mode  speechiness  acousticness  \\\n",
       "0         0.759   0.459    8    -5.187     1       0.0948       0.00323   \n",
       "\n",
       "   instrumentalness  liveness  valence    tempo            type  \\\n",
       "0                 0    0.0906    0.695  109.997  audio_features   \n",
       "\n",
       "                       id                                   uri  \\\n",
       "0  2bgTY4UwhfBYhGT4HUYStN  spotify:track:2bgTY4UwhfBYhGT4HUYStN   \n",
       "\n",
       "                                          track_href  \\\n",
       "0  https://api.spotify.com/v1/tracks/2bgTY4UwhfBY...   \n",
       "\n",
       "                                        analysis_url  duration_ms  \\\n",
       "0  https://api.spotify.com/v1/audio-analysis/2bgT...       164442   \n",
       "\n",
       "   time_signature  \n",
       "0               4  "
      ]
     },
     "execution_count": 465,
     "metadata": {},
     "output_type": "execute_result"
    }
   ],
   "source": [
    "song_features"
   ]
  },
  {
   "cell_type": "code",
   "execution_count": 466,
   "metadata": {},
   "outputs": [],
   "source": [
    "X = song_features.select_dtypes(include=np.number)"
   ]
  },
  {
   "cell_type": "code",
   "execution_count": 480,
   "metadata": {},
   "outputs": [],
   "source": [
    "X_ = scaler.transform(X)"
   ]
  },
  {
   "cell_type": "code",
   "execution_count": 481,
   "metadata": {},
   "outputs": [
    {
     "data": {
      "text/plain": [
       "(1, 13)"
      ]
     },
     "execution_count": 481,
     "metadata": {},
     "output_type": "execute_result"
    }
   ],
   "source": [
    "X_.shape"
   ]
  },
  {
   "cell_type": "code",
   "execution_count": 488,
   "metadata": {},
   "outputs": [],
   "source": [
    "cluster_user = kmeans.predict(X_)[0]"
   ]
  },
  {
   "cell_type": "code",
   "execution_count": 491,
   "metadata": {},
   "outputs": [],
   "source": [
    "cluster_songs = playlist_final[playlist_final[\"Cluster\"]==cluster_user]"
   ]
  },
  {
   "cell_type": "code",
   "execution_count": null,
   "metadata": {},
   "outputs": [],
   "source": [
    "cluster_songs"
   ]
  },
  {
   "cell_type": "code",
   "execution_count": 492,
   "metadata": {},
   "outputs": [],
   "source": [
    "song_features['Cluster']= kmeans.predict(X_)"
   ]
  },
  {
   "cell_type": "code",
   "execution_count": 495,
   "metadata": {
    "scrolled": true
   },
   "outputs": [
    {
     "ename": "KeyError",
     "evalue": "103",
     "output_type": "error",
     "traceback": [
      "\u001b[0;31m---------------------------------------------------------------------------\u001b[0m",
      "\u001b[0;31mKeyError\u001b[0m                                  Traceback (most recent call last)",
      "\u001b[0;32m~/opt/anaconda3/lib/python3.8/site-packages/pandas/core/indexes/base.py\u001b[0m in \u001b[0;36mget_loc\u001b[0;34m(self, key, method, tolerance)\u001b[0m\n\u001b[1;32m   3079\u001b[0m             \u001b[0;32mtry\u001b[0m\u001b[0;34m:\u001b[0m\u001b[0;34m\u001b[0m\u001b[0;34m\u001b[0m\u001b[0m\n\u001b[0;32m-> 3080\u001b[0;31m                 \u001b[0;32mreturn\u001b[0m \u001b[0mself\u001b[0m\u001b[0;34m.\u001b[0m\u001b[0m_engine\u001b[0m\u001b[0;34m.\u001b[0m\u001b[0mget_loc\u001b[0m\u001b[0;34m(\u001b[0m\u001b[0mcasted_key\u001b[0m\u001b[0;34m)\u001b[0m\u001b[0;34m\u001b[0m\u001b[0;34m\u001b[0m\u001b[0m\n\u001b[0m\u001b[1;32m   3081\u001b[0m             \u001b[0;32mexcept\u001b[0m \u001b[0mKeyError\u001b[0m \u001b[0;32mas\u001b[0m \u001b[0merr\u001b[0m\u001b[0;34m:\u001b[0m\u001b[0;34m\u001b[0m\u001b[0;34m\u001b[0m\u001b[0m\n",
      "\u001b[0;32mpandas/_libs/index.pyx\u001b[0m in \u001b[0;36mpandas._libs.index.IndexEngine.get_loc\u001b[0;34m()\u001b[0m\n",
      "\u001b[0;32mpandas/_libs/index.pyx\u001b[0m in \u001b[0;36mpandas._libs.index.IndexEngine.get_loc\u001b[0;34m()\u001b[0m\n",
      "\u001b[0;32mpandas/_libs/index.pyx\u001b[0m in \u001b[0;36mpandas._libs.index.IndexEngine._get_loc_duplicates\u001b[0;34m()\u001b[0m\n",
      "\u001b[0;32mpandas/_libs/index_class_helper.pxi\u001b[0m in \u001b[0;36mpandas._libs.index.Int64Engine._maybe_get_bool_indexer\u001b[0;34m()\u001b[0m\n",
      "\u001b[0;32mpandas/_libs/index.pyx\u001b[0m in \u001b[0;36mpandas._libs.index.IndexEngine._unpack_bool_indexer\u001b[0;34m()\u001b[0m\n",
      "\u001b[0;31mKeyError\u001b[0m: 103",
      "\nThe above exception was the direct cause of the following exception:\n",
      "\u001b[0;31mKeyError\u001b[0m                                  Traceback (most recent call last)",
      "\u001b[0;32m<ipython-input-495-c793153de12b>\u001b[0m in \u001b[0;36m<module>\u001b[0;34m\u001b[0m\n\u001b[0;32m----> 1\u001b[0;31m \u001b[0mn\u001b[0m \u001b[0;34m=\u001b[0m \u001b[0mrandom\u001b[0m\u001b[0;34m.\u001b[0m\u001b[0mchoice\u001b[0m\u001b[0;34m(\u001b[0m\u001b[0mcluster_songs\u001b[0m\u001b[0;34m[\u001b[0m\u001b[0;34m'Name'\u001b[0m\u001b[0;34m]\u001b[0m\u001b[0;34m)\u001b[0m\u001b[0;34m\u001b[0m\u001b[0;34m\u001b[0m\u001b[0m\n\u001b[0m",
      "\u001b[0;32m~/opt/anaconda3/lib/python3.8/random.py\u001b[0m in \u001b[0;36mchoice\u001b[0;34m(self, seq)\u001b[0m\n\u001b[1;32m    289\u001b[0m         \u001b[0;32mexcept\u001b[0m \u001b[0mValueError\u001b[0m\u001b[0;34m:\u001b[0m\u001b[0;34m\u001b[0m\u001b[0;34m\u001b[0m\u001b[0m\n\u001b[1;32m    290\u001b[0m             \u001b[0;32mraise\u001b[0m \u001b[0mIndexError\u001b[0m\u001b[0;34m(\u001b[0m\u001b[0;34m'Cannot choose from an empty sequence'\u001b[0m\u001b[0;34m)\u001b[0m \u001b[0;32mfrom\u001b[0m \u001b[0;32mNone\u001b[0m\u001b[0;34m\u001b[0m\u001b[0;34m\u001b[0m\u001b[0m\n\u001b[0;32m--> 291\u001b[0;31m         \u001b[0;32mreturn\u001b[0m \u001b[0mseq\u001b[0m\u001b[0;34m[\u001b[0m\u001b[0mi\u001b[0m\u001b[0;34m]\u001b[0m\u001b[0;34m\u001b[0m\u001b[0;34m\u001b[0m\u001b[0m\n\u001b[0m\u001b[1;32m    292\u001b[0m \u001b[0;34m\u001b[0m\u001b[0m\n\u001b[1;32m    293\u001b[0m     \u001b[0;32mdef\u001b[0m \u001b[0mshuffle\u001b[0m\u001b[0;34m(\u001b[0m\u001b[0mself\u001b[0m\u001b[0;34m,\u001b[0m \u001b[0mx\u001b[0m\u001b[0;34m,\u001b[0m \u001b[0mrandom\u001b[0m\u001b[0;34m=\u001b[0m\u001b[0;32mNone\u001b[0m\u001b[0;34m)\u001b[0m\u001b[0;34m:\u001b[0m\u001b[0;34m\u001b[0m\u001b[0;34m\u001b[0m\u001b[0m\n",
      "\u001b[0;32m~/opt/anaconda3/lib/python3.8/site-packages/pandas/core/series.py\u001b[0m in \u001b[0;36m__getitem__\u001b[0;34m(self, key)\u001b[0m\n\u001b[1;32m    851\u001b[0m \u001b[0;34m\u001b[0m\u001b[0m\n\u001b[1;32m    852\u001b[0m         \u001b[0;32melif\u001b[0m \u001b[0mkey_is_scalar\u001b[0m\u001b[0;34m:\u001b[0m\u001b[0;34m\u001b[0m\u001b[0;34m\u001b[0m\u001b[0m\n\u001b[0;32m--> 853\u001b[0;31m             \u001b[0;32mreturn\u001b[0m \u001b[0mself\u001b[0m\u001b[0;34m.\u001b[0m\u001b[0m_get_value\u001b[0m\u001b[0;34m(\u001b[0m\u001b[0mkey\u001b[0m\u001b[0;34m)\u001b[0m\u001b[0;34m\u001b[0m\u001b[0;34m\u001b[0m\u001b[0m\n\u001b[0m\u001b[1;32m    854\u001b[0m \u001b[0;34m\u001b[0m\u001b[0m\n\u001b[1;32m    855\u001b[0m         \u001b[0;32mif\u001b[0m \u001b[0mis_hashable\u001b[0m\u001b[0;34m(\u001b[0m\u001b[0mkey\u001b[0m\u001b[0;34m)\u001b[0m\u001b[0;34m:\u001b[0m\u001b[0;34m\u001b[0m\u001b[0;34m\u001b[0m\u001b[0m\n",
      "\u001b[0;32m~/opt/anaconda3/lib/python3.8/site-packages/pandas/core/series.py\u001b[0m in \u001b[0;36m_get_value\u001b[0;34m(self, label, takeable)\u001b[0m\n\u001b[1;32m    959\u001b[0m \u001b[0;34m\u001b[0m\u001b[0m\n\u001b[1;32m    960\u001b[0m         \u001b[0;31m# Similar to Index.get_value, but we do not fall back to positional\u001b[0m\u001b[0;34m\u001b[0m\u001b[0;34m\u001b[0m\u001b[0;34m\u001b[0m\u001b[0m\n\u001b[0;32m--> 961\u001b[0;31m         \u001b[0mloc\u001b[0m \u001b[0;34m=\u001b[0m \u001b[0mself\u001b[0m\u001b[0;34m.\u001b[0m\u001b[0mindex\u001b[0m\u001b[0;34m.\u001b[0m\u001b[0mget_loc\u001b[0m\u001b[0;34m(\u001b[0m\u001b[0mlabel\u001b[0m\u001b[0;34m)\u001b[0m\u001b[0;34m\u001b[0m\u001b[0;34m\u001b[0m\u001b[0m\n\u001b[0m\u001b[1;32m    962\u001b[0m         \u001b[0;32mreturn\u001b[0m \u001b[0mself\u001b[0m\u001b[0;34m.\u001b[0m\u001b[0mindex\u001b[0m\u001b[0;34m.\u001b[0m\u001b[0m_get_values_for_loc\u001b[0m\u001b[0;34m(\u001b[0m\u001b[0mself\u001b[0m\u001b[0;34m,\u001b[0m \u001b[0mloc\u001b[0m\u001b[0;34m,\u001b[0m \u001b[0mlabel\u001b[0m\u001b[0;34m)\u001b[0m\u001b[0;34m\u001b[0m\u001b[0;34m\u001b[0m\u001b[0m\n\u001b[1;32m    963\u001b[0m \u001b[0;34m\u001b[0m\u001b[0m\n",
      "\u001b[0;32m~/opt/anaconda3/lib/python3.8/site-packages/pandas/core/indexes/base.py\u001b[0m in \u001b[0;36mget_loc\u001b[0;34m(self, key, method, tolerance)\u001b[0m\n\u001b[1;32m   3080\u001b[0m                 \u001b[0;32mreturn\u001b[0m \u001b[0mself\u001b[0m\u001b[0;34m.\u001b[0m\u001b[0m_engine\u001b[0m\u001b[0;34m.\u001b[0m\u001b[0mget_loc\u001b[0m\u001b[0;34m(\u001b[0m\u001b[0mcasted_key\u001b[0m\u001b[0;34m)\u001b[0m\u001b[0;34m\u001b[0m\u001b[0;34m\u001b[0m\u001b[0m\n\u001b[1;32m   3081\u001b[0m             \u001b[0;32mexcept\u001b[0m \u001b[0mKeyError\u001b[0m \u001b[0;32mas\u001b[0m \u001b[0merr\u001b[0m\u001b[0;34m:\u001b[0m\u001b[0;34m\u001b[0m\u001b[0;34m\u001b[0m\u001b[0m\n\u001b[0;32m-> 3082\u001b[0;31m                 \u001b[0;32mraise\u001b[0m \u001b[0mKeyError\u001b[0m\u001b[0;34m(\u001b[0m\u001b[0mkey\u001b[0m\u001b[0;34m)\u001b[0m \u001b[0;32mfrom\u001b[0m \u001b[0merr\u001b[0m\u001b[0;34m\u001b[0m\u001b[0;34m\u001b[0m\u001b[0m\n\u001b[0m\u001b[1;32m   3083\u001b[0m \u001b[0;34m\u001b[0m\u001b[0m\n\u001b[1;32m   3084\u001b[0m         \u001b[0;32mif\u001b[0m \u001b[0mtolerance\u001b[0m \u001b[0;32mis\u001b[0m \u001b[0;32mnot\u001b[0m \u001b[0;32mNone\u001b[0m\u001b[0;34m:\u001b[0m\u001b[0;34m\u001b[0m\u001b[0;34m\u001b[0m\u001b[0m\n",
      "\u001b[0;31mKeyError\u001b[0m: 103"
     ]
    }
   ],
   "source": [
    "n = random.choice(cluster_songs['Name'])"
   ]
  },
  {
   "cell_type": "code",
   "execution_count": null,
   "metadata": {},
   "outputs": [],
   "source": []
  },
  {
   "cell_type": "code",
   "execution_count": null,
   "metadata": {},
   "outputs": [],
   "source": []
  }
 ],
 "metadata": {
  "kernelspec": {
   "display_name": "Python 3",
   "language": "python",
   "name": "python3"
  },
  "language_info": {
   "codemirror_mode": {
    "name": "ipython",
    "version": 3
   },
   "file_extension": ".py",
   "mimetype": "text/x-python",
   "name": "python",
   "nbconvert_exporter": "python",
   "pygments_lexer": "ipython3",
   "version": "3.8.8"
  },
  "toc": {
   "base_numbering": 1,
   "nav_menu": {},
   "number_sections": true,
   "sideBar": true,
   "skip_h1_title": false,
   "title_cell": "Table of Contents",
   "title_sidebar": "Contents",
   "toc_cell": false,
   "toc_position": {},
   "toc_section_display": true,
   "toc_window_display": false
  },
  "varInspector": {
   "cols": {
    "lenName": 16,
    "lenType": 16,
    "lenVar": 40
   },
   "kernels_config": {
    "python": {
     "delete_cmd_postfix": "",
     "delete_cmd_prefix": "del ",
     "library": "var_list.py",
     "varRefreshCmd": "print(var_dic_list())"
    },
    "r": {
     "delete_cmd_postfix": ") ",
     "delete_cmd_prefix": "rm(",
     "library": "var_list.r",
     "varRefreshCmd": "cat(var_dic_list()) "
    }
   },
   "types_to_exclude": [
    "module",
    "function",
    "builtin_function_or_method",
    "instance",
    "_Feature"
   ],
   "window_display": false
  }
 },
 "nbformat": 4,
 "nbformat_minor": 4
}
