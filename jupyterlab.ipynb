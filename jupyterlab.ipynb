{
 "cells": [
  {
   "cell_type": "markdown",
   "id": "9912b15d",
   "metadata": {},
   "source": [
    "# <span style='color:green'> **Andrea** </span>"
   ]
  },
  {
   "cell_type": "markdown",
   "id": "e5b7adb9",
   "metadata": {},
   "source": [
    "<span style='color:green'> **The purpose of this notebook is to introduce Andrea's favourite holiday location** </span>"
   ]
  },
  {
   "cell_type": "code",
   "execution_count": null,
   "id": "796cca79",
   "metadata": {},
   "outputs": [],
   "source": [
    "x = input(\"What`s your name?: \")"
   ]
  },
  {
   "cell_type": "code",
   "execution_count": null,
   "id": "bd5d4d35",
   "metadata": {},
   "outputs": [],
   "source": [
    "x = input(\"What is your favourite location?: \")"
   ]
  },
  {
   "cell_type": "code",
   "execution_count": null,
   "id": "78170e64",
   "metadata": {},
   "outputs": [],
   "source": [
    "![costa_rica_andrea.jpeg](attachment:download.jpeg)"
   ]
  },
  {
   "cell_type": "code",
   "execution_count": null,
   "id": "3efa700d",
   "metadata": {},
   "outputs": [],
   "source": [
    "x = input(\"State 3 things you liked of yourt vacation: \")"
   ]
  },
  {
   "cell_type": "code",
   "execution_count": null,
   "id": "191f1014",
   "metadata": {},
   "outputs": [],
   "source": [
    "from Ipython.display import YoutubeVideo\n",
    "\n",
    "YouTubeVideo(\"bOnY-XeVsLA\")"
   ]
  },
  {
   "cell_type": "code",
   "execution_count": null,
   "id": "74238d5c",
   "metadata": {},
   "outputs": [],
   "source": []
  }
 ],
 "metadata": {
  "kernelspec": {
   "display_name": "Python 3",
   "language": "python",
   "name": "python3"
  },
  "language_info": {
   "codemirror_mode": {
    "name": "ipython",
    "version": 3
   },
   "file_extension": ".py",
   "mimetype": "text/x-python",
   "name": "python",
   "nbconvert_exporter": "python",
   "pygments_lexer": "ipython3",
   "version": "3.9.5"
  }
 },
 "nbformat": 4,
 "nbformat_minor": 5
}
